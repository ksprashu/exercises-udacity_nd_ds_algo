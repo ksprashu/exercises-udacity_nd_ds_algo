{
 "cells": [
  {
   "cell_type": "markdown",
   "source": [
    "# Min Operations"
   ],
   "metadata": {
    "graffitiCellId": "id_mzvh44q"
   }
  },
  {
   "cell_type": "markdown",
   "source": [
    "Starting from the number `0`, find the minimum number of operations required to reach a given positive `target number`. You can only use the following two operations:\n",
    "\n",
    "    1. Add 1\n",
    "    2. Double the number\n",
    "    \n",
    "### Example:\n",
    "\n",
    "1. For `Target = 18`,  `output = 6`, because it takes at least 6 steps shown below to reach the target\n",
    "\n",
    " * `start = 0`\n",
    " * `step 1 ==> 0 + 1 = 1`\n",
    " * `step 2 ==> 1 * 2 = 2`              # or 1 + 1 = 2\n",
    " * `step 3 ==> 2 * 2 = 4`\n",
    " * `step 4 ==> 4 * 2 = 8`\n",
    " * `step 5 ==> 8 + 1 = 9`\n",
    " * `step 6 ==> 9 * 2 = 18`\n",
    "\n",
    " \n",
    "\n",
    "2. For `Target = 69`, `output = 9`, because it takes at least 8 steps to reach `69` from `0` using the allowed operations\n",
    "\n",
    " * `start = 0`\n",
    " * `step 1 ==> 0 + 1 = 1`\n",
    " * `step 2 ==> 1 + 1 = 2`\n",
    " * `step 3 ==> 2 * 2 = 4`\n",
    " * `step 4 ==> 4 * 2 = 8`\n",
    " * `step 5 ==> 8 * 2 = 16`\n",
    " * `step 6 ==> 16 + 1 = 17`\n",
    " * `step 7 ==> 17 * 2 = 34`\n",
    " * `step 8 ==> 34 * 2 = 68`\n",
    " * `step 9 ==> 68 + 1  = 69`\n",
    "\n"
   ],
   "metadata": {
    "graffitiCellId": "id_v1yva3c"
   }
  },
  {
   "cell_type": "code",
   "execution_count": 1,
   "source": [
    "# Your solution\n",
    "def min_operations(target):\n",
    "    \"\"\"\n",
    "    Return number of steps taken to reach a target number\n",
    "    input: target number (as an integer)\n",
    "    output: number of steps (as an integer)\n",
    "    \"\"\"\n",
    "    \n",
    "    # with a greedy approach, we will start with the final number and go down to 0\n",
    "    # if the number is odd, then the last operation cannot have been an *2\n",
    "    # hence we will do a -1 to reverse the last operation\n",
    "    # if the number is even, we will reverse it by doing a /2\n",
    "    \n",
    "    steps = 0\n",
    "    while target:\n",
    "        if target % 2 == 0:\n",
    "            target /= 2\n",
    "        else:\n",
    "            target -= 1\n",
    "        steps += 1\n",
    "        \n",
    "    return steps"
   ],
   "outputs": [],
   "metadata": {
    "graffitiCellId": "id_1d4ti1y"
   }
  },
  {
   "cell_type": "code",
   "execution_count": 2,
   "source": [
    "# Test Cases\n",
    "\n",
    "def test_function(test_case):\n",
    "    target = test_case[0]\n",
    "    solution = test_case[1]\n",
    "    output = min_operations(target)\n",
    "    \n",
    "    if output == solution:\n",
    "        print(\"Pass\")\n",
    "    else:\n",
    "        print(\"Fail\")"
   ],
   "outputs": [],
   "metadata": {
    "graffitiCellId": "id_qtaglkw"
   }
  },
  {
   "cell_type": "code",
   "execution_count": 3,
   "source": [
    "target = 18\n",
    "solution = 6\n",
    "test_case = [target, solution]\n",
    "test_function(test_case)"
   ],
   "outputs": [
    {
     "output_type": "stream",
     "name": "stdout",
     "text": [
      "Pass\n"
     ]
    }
   ],
   "metadata": {
    "graffitiCellId": "id_x80vrjt"
   }
  },
  {
   "cell_type": "code",
   "execution_count": 4,
   "source": [
    "target = 69\n",
    "solution = 9\n",
    "test_case = [target, solution]\n",
    "test_function(test_case)"
   ],
   "outputs": [
    {
     "output_type": "stream",
     "name": "stdout",
     "text": [
      "Pass\n"
     ]
    }
   ],
   "metadata": {
    "graffitiCellId": "id_0c3qlrn"
   }
  }
 ],
 "metadata": {
  "graffiti": {
   "firstAuthorId": "10694620118",
   "id": "id_l7u9zeh",
   "language": "EN"
  },
  "kernelspec": {
   "display_name": "Python 3",
   "language": "python",
   "name": "python3"
  },
  "language_info": {
   "codemirror_mode": {
    "name": "ipython",
    "version": 3
   },
   "file_extension": ".py",
   "mimetype": "text/x-python",
   "name": "python",
   "nbconvert_exporter": "python",
   "pygments_lexer": "ipython3",
   "version": "3.6.3"
  }
 },
 "nbformat": 4,
 "nbformat_minor": 2
}