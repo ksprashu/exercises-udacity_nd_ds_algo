{
 "cells": [
  {
   "cell_type": "markdown",
   "source": [
    "# Connect Islands using Prim’s Algorithm\n",
    "### A. Problem Statements\n",
    "\n",
    "In an ocean, there are `n` islands some of which are connected via bridges. Travelling over a bridge has some cost attaced with it. Find bridges in such a way that all islands are connected with minimum cost of travelling. \n",
    "\n",
    "You can assume that there is at least one possible way in which all islands are connected with each other. \n",
    "\n",
    "You will be provided with two input parameters:\n",
    "    \n",
    "1. `num_islands` = number of islands\n",
    "    \n",
    "2. `bridge_config` = list of lists. \n",
    "    Each inner list will have 3 elements:\n",
    "        a. island A\n",
    "        b. island B\n",
    "        c. cost of bridge connecting both islands\n",
    "                       \n",
    "    Each island is represented using a number\n",
    "     \n",
    "**Example:**                       \n",
    "* `num_islands = 4`\n",
    "* `bridge_config = [[1, 2, 1], [2, 3, 4], [1, 4, 3], [4, 3, 2], [1, 3, 10]]`\n",
    "       \n",
    "Input parameters explanation:\n",
    "    1. Number of islands = 4\n",
    "    2. Island 1 and 2 are connected via a bridge with cost = 1\n",
    "       Island 2 and 3 are connected via a bridge with cost = 4\n",
    "       Island 1 and 4 are connected via a bridge with cost = 3\n",
    "       Island 4 and 3 are connected via a bridge with cost = 2\n",
    "       Island 1 and 3 are connected via a bridge with cost = 10\n",
    "       \n",
    "In this example if we are connecting bridges like this...\n",
    "* between 1 and 2 with cost = 1\n",
    "* between 1 and 4 with cost = 3\n",
    "* between 4 and 3 with cost = 2  \n",
    "\n",
    "...then we connect all 4 islands with `cost = 6` which is the minimum traveling cost.\n"
   ],
   "metadata": {
    "graffitiCellId": "id_2ypsk8q"
   }
  },
  {
   "cell_type": "markdown",
   "source": [
    "### B. Hint: Use a Priority Queue or Min-Heap\n",
    "\n",
    "In addition to using a graph, you may want to use a custom priority queue for solving this problem. If you do not want to create a custom priority queue, you can use Python's inbuilt `heapq` implementation.\n",
    "\n",
    "Using the `heapq` module, you can convert an existing list of items into a min-heap. The following two functionalities can be very handy for this problem:\n",
    "\n",
    "1. `heappush(heap, item)` — add `item` to the `heap`\n",
    "2. `heappop(heap)` — remove the smallest item from the `heap`\n",
    "\n",
    "Let's look at the above methods in action. We start by creating a list of integers."
   ],
   "metadata": {
    "graffitiCellId": "id_83kmdhq"
   }
  },
  {
   "cell_type": "markdown",
   "source": [
    "### `heappush`"
   ],
   "metadata": {
    "graffitiCellId": "id_bdreuuy"
   }
  },
  {
   "cell_type": "code",
   "execution_count": 10,
   "source": [
    "import heapq\n",
    "\n",
    "# initialize an empty list \n",
    "minHeap = list()\n",
    "\n",
    "# insert 5 into heap\n",
    "heapq.heappush(minHeap, 6)\n",
    "\n",
    "# insert 6 into heap\n",
    "heapq.heappush(minHeap, 6)\n",
    "\n",
    "# insert 2 into heap\n",
    "heapq.heappush(minHeap, 2)\n",
    "\n",
    "# insert 1 into heap\n",
    "heapq.heappush(minHeap, 1)\n",
    "\n",
    "# insert 9 into heap\n",
    "heapq.heappush(minHeap, 9)\n",
    "\n",
    "print(\"After pushing, heap looks like: {}\".format(minHeap))"
   ],
   "outputs": [
    {
     "output_type": "stream",
     "name": "stdout",
     "text": [
      "After pushing, heap looks like: [1, 2, 6, 6, 9]\n"
     ]
    }
   ],
   "metadata": {
    "graffitiCellId": "id_9l6a6q2"
   }
  },
  {
   "cell_type": "markdown",
   "source": [
    "### `heappop`"
   ],
   "metadata": {
    "graffitiCellId": "id_g622hmp"
   }
  },
  {
   "cell_type": "code",
   "execution_count": 11,
   "source": [
    "# pop and return smallest element from the heap\n",
    "smallest = heapq.heappop(minHeap)   \n",
    "\n",
    "print(\"Smallest element in the original list was: {}\".format(smallest))\n",
    "\n",
    "print(\"After popping, heap looks like: {}\".format(minHeap))"
   ],
   "outputs": [
    {
     "output_type": "stream",
     "name": "stdout",
     "text": [
      "Smallest element in the original list was: 1\n",
      "After popping, heap looks like: [2, 6, 6, 9]\n"
     ]
    }
   ],
   "metadata": {
    "graffitiCellId": "id_wnum5bl"
   }
  },
  {
   "cell_type": "markdown",
   "source": [
    "### `heappush` and `heappop` for items with multiple entries\n",
    "\n",
    "Note: If you insert a tuple inside the heap, the element at 0th index of the tuple is used for comparision\n"
   ],
   "metadata": {
    "graffitiCellId": "id_kuyx4j2"
   }
  },
  {
   "cell_type": "code",
   "execution_count": 12,
   "source": [
    "minHeap = list()\n",
    "\n",
    "heapq.heappush(minHeap, (0, 1))\n",
    "\n",
    "heapq.heappush(minHeap, (-1, 5))\n",
    "\n",
    "heapq.heappush(minHeap, (2, 0))\n",
    "\n",
    "heapq.heappush(minHeap, (5, -1))\n",
    "\n",
    "print(\"After pushing, now heap looks like: {}\".format(minHeap))"
   ],
   "outputs": [
    {
     "output_type": "stream",
     "name": "stdout",
     "text": [
      "After pushing, now heap looks like: [(-1, 5), (0, 1), (2, 0), (5, -1)]\n"
     ]
    }
   ],
   "metadata": {
    "graffitiCellId": "id_namr80b"
   }
  },
  {
   "cell_type": "code",
   "execution_count": 13,
   "source": [
    "# pop and return smallest element from the heap\n",
    "smallest = heapq.heappop(minHeap)   \n",
    "\n",
    "print(\"Smallest element in the original list was: {}\".format(smallest))\n",
    "\n",
    "print(\"After popping, heap looks like: {}\".format(minHeap))"
   ],
   "outputs": [
    {
     "output_type": "stream",
     "name": "stdout",
     "text": [
      "Smallest element in the original list was: (-1, 5)\n",
      "After popping, heap looks like: [(0, 1), (5, -1), (2, 0)]\n"
     ]
    }
   ],
   "metadata": {
    "graffitiCellId": "id_nm8mxqe"
   }
  },
  {
   "cell_type": "markdown",
   "source": [
    "Now that you know about `heapq`, you can use it to solve the given problem. You are also free to create your own implementatin of Priority Queues.\n",
    "\n",
    "### C. The Idea, based on Prim’s Algorithm:\n",
    "Our objective is to find the minimum `total_cost` to visit all the islands. We will start with any one island, and follow a Greedy approach. <br>\n",
    "**Step 1 -  Create a Graph**\n",
    "1. Create a graph with given number of islands, and the cost between each pair of islands. A graph can be represented as a adjacency_matrix, which is a list of lists. For example, given:<br>\n",
    "```\n",
    "num_islands = 4\n",
    "bridge_config = [[1, 2, 1], [2, 3, 4], [1, 4, 3], [4, 3, 2], [1, 3, 10]]\n",
    "```\n",
    "<br> The graph would look like:\n",
    "```\n",
    "graph =  [[], [(2, 1), (4, 3), (3, 10)], [(1, 1), (3, 4)], [(2, 4), (4, 2), (1, 10)], [(1, 3), (3, 2)]]\n",
    "```\n",
    "where, a sublist at $i^{th}$ index represents the adjacency_list of $i^{th}$ island. A tuple within a sublist is `(neighbor, edge_cost)`. <br>\n",
    "\n",
    "**Step 2 - Traverse the graph in a Greedy way.** <br>  \n",
    "1. Create a blank `minHeap`, and push any one island (vertex) into it.  \n",
    "1. While there are elements remaining in the `minHeap`, do the following:\n",
    " - Pop out an island having smallest edge_cost, and reduce the heap size. You can use `heapq.heappop()` for this purpose. \n",
    " - If the current island has not been visited before, add the `edge_cost` to the `total_cost`. You can use a list of booleans to keep track of the visited islands.  \n",
    " - Find out all the neighbours of the current island from the given `graph`. Push each neighbour of the current island into the `minHeap`. You can use `heapq.heappush()` for this purpose. \n",
    " - Mark current island as visited\n",
    " tuple in the adjacency_list of the \n",
    "\n",
    "1. When we have popped out all the elements from the `minHeap`, we will have the minimum `total_cost` to visit all the islands.\n",
    "\n",
    "### D. Exercise - Write the function definition here \n",
    "Write code in the following function to find and return the minimum cost required to travel all islands via bridges."
   ],
   "metadata": {
    "graffitiCellId": "id_x0cx1fl"
   }
  },
  {
   "cell_type": "code",
   "execution_count": 14,
   "source": [
    "def get_adjacency_matrix(num_islands, bridge_config):\n",
    "    \"\"\"Convert bridge config to adjacency matrix.\n",
    "    \"\"\"\n",
    "    adj = [[] for _ in range(num_islands + 1)]  # 0th element doesn't exist\n",
    "    for config in bridge_config:\n",
    "        adj[config[0]].append((config[1], config[2]))\n",
    "        adj[config[1]].append((config[0], config[2]))\n",
    "        \n",
    "    return adj\n"
   ],
   "outputs": [],
   "metadata": {
    "graffitiCellId": "id_6y1krel"
   }
  },
  {
   "cell_type": "code",
   "execution_count": 15,
   "source": [
    "num_islands = 4\n",
    "bridge_config = [[1, 2, 1], [2, 3, 4], [1, 4, 3], [4, 3, 2], [1, 3, 10]]\n",
    "get_adjacency_matrix(num_islands, bridge_config)"
   ],
   "outputs": [
    {
     "output_type": "execute_result",
     "data": {
      "text/plain": [
       "[[],\n",
       " [(2, 1), (4, 3), (3, 10)],\n",
       " [(1, 1), (3, 4)],\n",
       " [(2, 4), (4, 2), (1, 10)],\n",
       " [(1, 3), (3, 2)]]"
      ]
     },
     "metadata": {},
     "execution_count": 15
    }
   ],
   "metadata": {
    "graffitiCellId": "id_xxosg8v"
   }
  },
  {
   "cell_type": "code",
   "execution_count": 25,
   "source": [
    "def get_minimum_cost_of_connecting(num_islands, bridge_config):\n",
    "    \"\"\"\n",
    "    :param: num_islands - number of islands\n",
    "    :param: bridge_config - bridge configuration as explained in the problem statement\n",
    "    return: cost (int) minimum cost of connecting all islands\n",
    "    TODO complete this method to returh minimum cost of connecting all islands\n",
    "    \"\"\"\n",
    "    \n",
    "    adj = get_adjacency_matrix(num_islands, bridge_config)\n",
    "    minheap = list()\n",
    "    visited = set()\n",
    "    total_cost = 0\n",
    "    \n",
    "    # starting with island 1 (dist, island)\n",
    "    heapq.heappush(minheap, (0, 1))\n",
    "\n",
    "    while minheap:\n",
    "        current = heapq.heappop(minheap)\n",
    "        print('min = {}, visited = {}'.format(current[1], current[1] in visited))\n",
    "        if current[1] not in visited:\n",
    "            total_cost += current[0]\n",
    "            visited.add(current[1])\n",
    "        for conn in adj[current[1]]:\n",
    "            if conn[0] not in visited:\n",
    "                heapq.heappush(minheap, (conn[1], conn[0]))\n",
    "            \n",
    "        print(minheap)\n",
    "        \n",
    "    return total_cost\n"
   ],
   "outputs": [],
   "metadata": {
    "graffitiCellId": "id_igrfgn6"
   }
  },
  {
   "cell_type": "code",
   "execution_count": 26,
   "source": [
    "def test_function(test_case):\n",
    "    num_islands = test_case[0]\n",
    "    bridge_config = test_case[1]\n",
    "    solution = test_case[2]\n",
    "    output = get_minimum_cost_of_connecting(num_islands, bridge_config)\n",
    "    \n",
    "    if output == solution:\n",
    "        print(\"Pass\")\n",
    "    else:\n",
    "        print(\"Fail\")"
   ],
   "outputs": [],
   "metadata": {
    "graffitiCellId": "id_pevivew"
   }
  },
  {
   "cell_type": "code",
   "execution_count": 27,
   "source": [
    "num_islands = 4\n",
    "bridge_config = [[1, 2, 1], [2, 3, 4], [1, 4, 3], [4, 3, 2], [1, 3, 10]]\n",
    "solution = 6\n",
    "\n",
    "test_case = [num_islands, bridge_config, solution]\n",
    "test_function(test_case)"
   ],
   "outputs": [
    {
     "output_type": "stream",
     "name": "stdout",
     "text": [
      "min = 1, visited = False\n",
      "[(1, 2), (3, 4), (10, 3)]\n",
      "min = 2, visited = False\n",
      "[(3, 4), (10, 3), (4, 3)]\n",
      "min = 4, visited = False\n",
      "[(2, 3), (10, 3), (4, 3)]\n",
      "min = 3, visited = False\n",
      "[(4, 3), (10, 3)]\n",
      "min = 3, visited = True\n",
      "[(10, 3)]\n",
      "min = 3, visited = True\n",
      "[]\n",
      "Pass\n"
     ]
    }
   ],
   "metadata": {
    "graffitiCellId": "id_5j7jeic"
   }
  },
  {
   "cell_type": "code",
   "execution_count": 28,
   "source": [
    "num_islands = 5\n",
    "bridge_config = [[1, 2, 5], [1, 3, 8], [2, 3, 9]]\n",
    "solution = 13\n",
    "\n",
    "test_case = [num_islands, bridge_config, solution]\n",
    "test_function(test_case)"
   ],
   "outputs": [
    {
     "output_type": "stream",
     "name": "stdout",
     "text": [
      "min = 1, visited = False\n",
      "[(5, 2), (8, 3)]\n",
      "min = 2, visited = False\n",
      "[(8, 3), (9, 3)]\n",
      "min = 3, visited = False\n",
      "[(9, 3)]\n",
      "min = 3, visited = True\n",
      "[]\n",
      "Pass\n"
     ]
    }
   ],
   "metadata": {
    "graffitiCellId": "id_txlblpb"
   }
  },
  {
   "cell_type": "code",
   "execution_count": 29,
   "source": [
    "num_islands = 5\n",
    "bridge_config = [[1, 2, 3], [1, 5, 9], [2, 3, 10], [4, 3, 9]]\n",
    "solution = 31\n",
    "\n",
    "test_case = [num_islands, bridge_config, solution]\n",
    "test_function(test_case)"
   ],
   "outputs": [
    {
     "output_type": "stream",
     "name": "stdout",
     "text": [
      "min = 1, visited = False\n",
      "[(3, 2), (9, 5)]\n",
      "min = 2, visited = False\n",
      "[(9, 5), (10, 3)]\n",
      "min = 5, visited = False\n",
      "[(10, 3)]\n",
      "min = 3, visited = False\n",
      "[(9, 4)]\n",
      "min = 4, visited = False\n",
      "[]\n",
      "Pass\n"
     ]
    }
   ],
   "metadata": {
    "graffitiCellId": "id_x9pmr53"
   }
  },
  {
   "cell_type": "code",
   "execution_count": null,
   "source": [],
   "outputs": [],
   "metadata": {
    "graffitiCellId": "id_clpo0qh"
   }
  }
 ],
 "metadata": {
  "graffiti": {
   "firstAuthorId": "dev",
   "id": "id_j75mgso",
   "language": "EN"
  },
  "kernelspec": {
   "display_name": "Python 3",
   "language": "python",
   "name": "python3"
  },
  "language_info": {
   "codemirror_mode": {
    "name": "ipython",
    "version": 3
   },
   "file_extension": ".py",
   "mimetype": "text/x-python",
   "name": "python",
   "nbconvert_exporter": "python",
   "pygments_lexer": "ipython3",
   "version": "3.6.3"
  }
 },
 "nbformat": 4,
 "nbformat_minor": 2
}