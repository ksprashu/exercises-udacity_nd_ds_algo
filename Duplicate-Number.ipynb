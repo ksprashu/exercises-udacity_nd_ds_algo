{
 "cells": [
  {
   "cell_type": "markdown",
   "metadata": {
    "graffitiCellId": "id_jjzm8pq"
   },
   "source": [
    "### Problem Statement\n",
    "\n",
    "You have been given an array of `length = n`. The array contains integers from `0` to `n - 2`. Each number in the array is present exactly once except for one number which is present twice. Find and return this duplicate number present in the array\n",
    "\n",
    "**Example:**\n",
    "* `arr = [0, 2, 3, 1, 4, 5, 3]`\n",
    "* `output = 3` (because `3` is present twice)\n",
    "\n",
    "The expected time complexity for this problem is `O(n)` and the expected space-complexity is `O(1)`."
   ]
  },
  {
   "cell_type": "code",
   "execution_count": 1,
   "metadata": {
    "graffitiCellId": "id_hjobo20"
   },
   "outputs": [],
   "source": [
    "def duplicate_number(arr):\n",
    "    \"\"\"\n",
    "    :param - array containing numbers in the range [0, len(arr) - 2]\n",
    "    return - the number that is duplicate in the arr\n",
    "    \"\"\"\n",
    "    \n",
    "    # let us step through the elements in the array and move it to the correct index. \n",
    "    # If in the expected index, the same number is already present, it is duplicate\n",
    "    for i in range(len(arr)):\n",
    "        # if number in right index, don't do anything\n",
    "        if arr[i] == i: \n",
    "            continue\n",
    "        # if the number at target index is already correct, then this is duplicate\n",
    "        if arr[arr[i]] == arr[i]:\n",
    "            return arr[i]\n",
    "        # move element to its correct position\n",
    "        arr[arr[i]], arr[i] = arr[i], arr[arr[i]]\n",
    "\n"
   ]
  },
  {
   "cell_type": "code",
   "execution_count": 2,
   "metadata": {
    "graffitiCellId": "id_32apeg6"
   },
   "outputs": [],
   "source": [
    "def test_function(test_case):\n",
    "    arr = test_case[0]\n",
    "    solution = test_case[1]\n",
    "    output = duplicate_number(arr)\n",
    "    if output == solution:\n",
    "        print(\"Pass\")\n",
    "    else:\n",
    "        print(\"Fail\")"
   ]
  },
  {
   "cell_type": "code",
   "execution_count": 3,
   "metadata": {
    "graffitiCellId": "id_5b4ou9d"
   },
   "outputs": [
    {
     "output_type": "stream",
     "name": "stdout",
     "text": [
      "Pass\n"
     ]
    }
   ],
   "source": [
    "arr = [0, 0]\n",
    "solution = 0\n",
    "\n",
    "test_case = [arr, solution]\n",
    "test_function(test_case)"
   ]
  },
  {
   "cell_type": "code",
   "execution_count": 4,
   "metadata": {
    "graffitiCellId": "id_kvkeije"
   },
   "outputs": [
    {
     "output_type": "stream",
     "name": "stdout",
     "text": [
      "Pass\n"
     ]
    }
   ],
   "source": [
    "arr = [0, 2, 3, 1, 4, 5, 3]\n",
    "solution = 3\n",
    "\n",
    "test_case = [arr, solution]\n",
    "test_function(test_case)"
   ]
  },
  {
   "cell_type": "code",
   "execution_count": 5,
   "metadata": {
    "graffitiCellId": "id_vfijgc0"
   },
   "outputs": [
    {
     "output_type": "stream",
     "name": "stdout",
     "text": [
      "Pass\n"
     ]
    }
   ],
   "source": [
    "arr = [0, 1, 5, 4, 3, 2, 0]\n",
    "solution = 0\n",
    "\n",
    "test_case = [arr, solution]\n",
    "test_function(test_case)"
   ]
  },
  {
   "cell_type": "code",
   "execution_count": 6,
   "metadata": {
    "graffitiCellId": "id_w6gda6p"
   },
   "outputs": [
    {
     "output_type": "stream",
     "name": "stdout",
     "text": [
      "Pass\n"
     ]
    }
   ],
   "source": [
    "arr = [0, 1, 5, 5, 3, 2, 4]\n",
    "solution = 5\n",
    "\n",
    "test_case = [arr, solution]\n",
    "test_function(test_case)"
   ]
  },
  {
   "cell_type": "code",
   "execution_count": null,
   "metadata": {
    "graffitiCellId": "id_xx8luk2"
   },
   "outputs": [],
   "source": []
  }
 ],
 "metadata": {
  "graffiti": {
   "firstAuthorId": "dev",
   "id": "id_11ltg2a",
   "language": "EN"
  },
  "kernelspec": {
   "name": "python3",
   "display_name": "Python 3.8.5 64-bit ('base': conda)"
  },
  "language_info": {
   "codemirror_mode": {
    "name": "ipython",
    "version": 3
   },
   "file_extension": ".py",
   "mimetype": "text/x-python",
   "name": "python",
   "nbconvert_exporter": "python",
   "pygments_lexer": "ipython3",
   "version": "3.8.5"
  },
  "interpreter": {
   "hash": "71511eaa893d3a5dcdacbd36fa71cad1ef9494e58397fba4ffb8c3d96abe4089"
  }
 },
 "nbformat": 4,
 "nbformat_minor": 2
}