{
 "cells": [
  {
   "cell_type": "markdown",
   "metadata": {
    "graffitiCellId": "id_pr3r54a"
   },
   "source": [
    "## Problem statement\n",
    "\n",
    "Given a sorted array that may have duplicate values, use *binary search* to find the **first** and **last** indexes of a given value.\n",
    "\n",
    "For example, if you have the array `[0, 1, 2, 2, 3, 3, 3, 4, 5, 6]` and the given value is `3`, the answer will be `[4, 6]` (because the value `3` occurs first at index `4` and last at index `6` in the array).\n",
    "\n",
    "The expected complexity of the problem is $O(log(n))$."
   ]
  },
  {
   "cell_type": "code",
   "execution_count": 26,
   "metadata": {
    "graffitiCellId": "id_stslkm6"
   },
   "outputs": [],
   "source": [
    "def first_and_last_index(arr, number):\n",
    "    \"\"\"\n",
    "    Given a sorted array that may have duplicate values, use binary \n",
    "    search to find the first and last indexes of a given value.\n",
    "\n",
    "    Args:\n",
    "        arr(list): Sorted array (or Python list) that may have duplicate values\n",
    "        number(int): Value to search for in the array\n",
    "    Returns:\n",
    "        a list containing the first and last indexes of the given value\n",
    "    \"\"\"\n",
    "        \n",
    "    # TODO: Write your first_and_last function here\n",
    "    # Note that you may want to write helper functions to find the start \n",
    "    # index and the end index\n",
    "    def binary_search(arr, number, beg, end):\n",
    "        if beg > end:\n",
    "            return -1\n",
    "        \n",
    "        mid = (beg + end) // 2\n",
    "        if number == arr[mid]:\n",
    "            return mid\n",
    "        elif number > arr[mid]:\n",
    "            return binary_search(arr, number, mid + 1, end)\n",
    "        elif number < arr[mid]:\n",
    "            return binary_search(arr, number, beg, mid - 1)\n",
    "        \n",
    "    def scan_left(arr, number, pos):\n",
    "        while pos >= 0 and arr[pos] == number:\n",
    "            pos -= 1\n",
    "        return pos + 1\n",
    "    \n",
    "    def scan_right(arr, number, pos):\n",
    "        while pos < len(arr) and arr[pos] == number:\n",
    "            pos += 1\n",
    "        return pos - 1\n",
    "       \n",
    "    pos = binary_search(arr, number, 0, len(arr) - 1)\n",
    "    if pos == -1:\n",
    "        return [-1, -1]\n",
    "    \n",
    "    return [scan_left(arr, number, pos), scan_right(arr, number, pos)]"
   ]
  },
  {
   "cell_type": "markdown",
   "metadata": {
    "graffitiCellId": "id_ii2o0tq"
   },
   "source": [
    "Below are several different test cases you can use to check your solution."
   ]
  },
  {
   "cell_type": "code",
   "execution_count": 27,
   "metadata": {
    "graffitiCellId": "id_a8bxvyg"
   },
   "outputs": [],
   "source": [
    "def test_function(test_case):\n",
    "    input_list = test_case[0]\n",
    "    number = test_case[1]\n",
    "    solution = test_case[2]\n",
    "    output = first_and_last_index(input_list, number)\n",
    "    print(output)\n",
    "    if output == solution:\n",
    "        print(\"Pass\")\n",
    "    else:\n",
    "        print(\"Fail\")"
   ]
  },
  {
   "cell_type": "code",
   "execution_count": 28,
   "metadata": {
    "graffitiCellId": "id_20phd4q"
   },
   "outputs": [
    {
     "name": "stdout",
     "output_type": "stream",
     "text": [
      "[0, 0]\n",
      "Pass\n"
     ]
    }
   ],
   "source": [
    "input_list = [1]\n",
    "number = 1\n",
    "solution = [0, 0]\n",
    "test_case_1 = [input_list, number, solution]\n",
    "test_function(test_case_1)"
   ]
  },
  {
   "cell_type": "code",
   "execution_count": 29,
   "metadata": {
    "graffitiCellId": "id_9p3166p"
   },
   "outputs": [
    {
     "name": "stdout",
     "output_type": "stream",
     "text": [
      "[3, 6]\n",
      "Pass\n"
     ]
    }
   ],
   "source": [
    "input_list = [0, 1, 2, 3, 3, 3, 3, 4, 5, 6]\n",
    "number = 3\n",
    "solution = [3, 6]\n",
    "test_case_2 = [input_list, number, solution]\n",
    "test_function(test_case_2)"
   ]
  },
  {
   "cell_type": "code",
   "execution_count": 30,
   "metadata": {
    "graffitiCellId": "id_pcvcepp"
   },
   "outputs": [
    {
     "name": "stdout",
     "output_type": "stream",
     "text": [
      "[5, 5]\n",
      "Pass\n"
     ]
    }
   ],
   "source": [
    "input_list = [0, 1, 2, 3, 4, 5]\n",
    "number = 5\n",
    "solution = [5, 5]\n",
    "test_case_3 = [input_list, number, solution]\n",
    "test_function(test_case_3)"
   ]
  },
  {
   "cell_type": "code",
   "execution_count": 31,
   "metadata": {
    "graffitiCellId": "id_cz075rp"
   },
   "outputs": [
    {
     "name": "stdout",
     "output_type": "stream",
     "text": [
      "[-1, -1]\n",
      "Pass\n"
     ]
    }
   ],
   "source": [
    "input_list = [0, 1, 2, 3, 4, 5]\n",
    "number = 6\n",
    "solution = [-1, -1]\n",
    "test_case_4 = [input_list, number, solution]\n",
    "test_function(test_case_4)"
   ]
  },
  {
   "cell_type": "code",
   "execution_count": null,
   "metadata": {
    "graffitiCellId": "id_6is4hxo"
   },
   "outputs": [],
   "source": []
  }
 ],
 "metadata": {
  "graffiti": {
   "firstAuthorId": "dev",
   "id": "id_qwr7xir",
   "language": "EN"
  },
  "kernelspec": {
   "display_name": "Python 3",
   "language": "python",
   "name": "python3"
  },
  "language_info": {
   "codemirror_mode": {
    "name": "ipython",
    "version": 3
   },
   "file_extension": ".py",
   "mimetype": "text/x-python",
   "name": "python",
   "nbconvert_exporter": "python",
   "pygments_lexer": "ipython3",
   "version": "3.6.3"
  }
 },
 "nbformat": 4,
 "nbformat_minor": 2
}