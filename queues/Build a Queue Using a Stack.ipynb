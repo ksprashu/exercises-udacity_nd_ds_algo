{
 "cells": [
  {
   "cell_type": "markdown",
   "metadata": {
    "graffitiCellId": "id_d0572r6"
   },
   "source": [
    "# Build a Queue From Stacks"
   ]
  },
  {
   "cell_type": "markdown",
   "metadata": {
    "graffitiCellId": "id_bfzc7zi"
   },
   "source": [
    "In this exercise we are going to create a queue with just stacks."
   ]
  },
  {
   "cell_type": "markdown",
   "metadata": {
    "graffitiCellId": "id_hyxoxmu"
   },
   "source": [
    "#### Code"
   ]
  },
  {
   "cell_type": "code",
   "execution_count": 1,
   "metadata": {
    "graffitiCellId": "id_u8iro3g"
   },
   "outputs": [],
   "source": [
    "# Here is our Stack Class\n",
    "\n",
    "class Stack:\n",
    "    def __init__(self):\n",
    "        self.items = []\n",
    "    \n",
    "    def size(self):\n",
    "        return len(self.items)\n",
    "    \n",
    "    def push(self, item):\n",
    "        self.items.append(item)\n",
    "\n",
    "    def pop(self):\n",
    "        if self.size()==0:\n",
    "            return None\n",
    "        else:\n",
    "            return self.items.pop()\n",
    "\n",
    "class Queue:\n",
    "    def __init__(self):\n",
    "        # Code here\n",
    "        self.instore = Stack()\n",
    "        self.outstore = Stack()\n",
    "        \n",
    "    def size(self):\n",
    "        # Code here\n",
    "        return self.instore.size() + self.outstore.size()\n",
    "        \n",
    "    def enqueue(self,item):\n",
    "        # Code here\n",
    "        # push to the instore\n",
    "        self.instore.push(item)\n",
    "        \n",
    "    def dequeue(self):\n",
    "        # Code here\n",
    "        # reverse into outstore and pop from there till empty\n",
    "        if self.size() == 0:\n",
    "            return None\n",
    "        \n",
    "        if self.outstore.size() > 0:\n",
    "            return self.outstore.pop()\n",
    "        \n",
    "        # if no outstore, then reverse existing elements into it\n",
    "        while self.instore.size() > 0:\n",
    "            self.outstore.push(self.instore.pop())\n",
    "\n",
    "        return self.outstore.pop()"
   ]
  },
  {
   "cell_type": "markdown",
   "metadata": {
    "graffitiCellId": "id_3ahdavv"
   },
   "source": [
    "#### Test Cases"
   ]
  },
  {
   "cell_type": "code",
   "execution_count": 2,
   "metadata": {
    "graffitiCellId": "id_jcf215k"
   },
   "outputs": [
    {
     "output_type": "stream",
     "name": "stdout",
     "text": [
      "Pass\nPass\nPass\nPass\nPass\nPass\n"
     ]
    }
   ],
   "source": [
    "# Setup\n",
    "q = Queue()\n",
    "q.enqueue(1)\n",
    "q.enqueue(2)\n",
    "q.enqueue(3)\n",
    "\n",
    "# Test size\n",
    "print (\"Pass\" if (q.size() == 3) else \"Fail\")\n",
    "\n",
    "# Test dequeue\n",
    "print (\"Pass\" if (q.dequeue() == 1) else \"Fail\")\n",
    "\n",
    "# Test enqueue\n",
    "q.enqueue(4)\n",
    "print (\"Pass\" if (q.dequeue() == 2) else \"Fail\")\n",
    "print (\"Pass\" if (q.dequeue() == 3) else \"Fail\")\n",
    "print (\"Pass\" if (q.dequeue() == 4) else \"Fail\")\n",
    "q.enqueue(5)\n",
    "print (\"Pass\" if (q.size() == 1) else \"Fail\")"
   ]
  },
  {
   "cell_type": "code",
   "execution_count": null,
   "metadata": {},
   "outputs": [],
   "source": []
  }
 ],
 "metadata": {
  "graffiti": {
   "firstAuthorId": "10694620118",
   "id": "id_hnsofe2",
   "language": "EN"
  },
  "kernelspec": {
   "name": "python3",
   "display_name": "Python 3.8.5 64-bit ('base': conda)"
  },
  "language_info": {
   "codemirror_mode": {
    "name": "ipython",
    "version": 3
   },
   "file_extension": ".py",
   "mimetype": "text/x-python",
   "name": "python",
   "nbconvert_exporter": "python",
   "pygments_lexer": "ipython3",
   "version": "3.8.5"
  },
  "interpreter": {
   "hash": "71511eaa893d3a5dcdacbd36fa71cad1ef9494e58397fba4ffb8c3d96abe4089"
  }
 },
 "nbformat": 4,
 "nbformat_minor": 2
}