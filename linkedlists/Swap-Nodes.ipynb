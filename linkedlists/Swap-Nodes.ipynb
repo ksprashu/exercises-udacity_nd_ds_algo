{
 "cells": [
  {
   "cell_type": "markdown",
   "metadata": {
    "graffitiCellId": "id_wwy91p2"
   },
   "source": [
    "## Problem Statement\n",
    "\n",
    "Given a linked list, swap the two nodes present at position `i` and `j`, assuming `0 <= i <= j`. The positions are based on 0-based indexing.\n",
    "\n",
    "**Note:** You have to swap the nodes and not just the values. \n",
    "\n",
    "**Example:**\n",
    "* `linked_list = 3 4 5 2 6 1 9`\n",
    "* `positions = 2 5`\n",
    "* `output = 3 4 1 2 6 5 9`\n",
    "\n",
    "**Explanation:** \n",
    "* The node at position 3 has the value `2`\n",
    "* The node at position 4 has the value `6`\n",
    "* Swapping these nodes will result in a final order of nodes of `3 4 5 6 2 1 9`"
   ]
  },
  {
   "cell_type": "markdown",
   "metadata": {
    "graffitiCellId": "id_lqtx3fk"
   },
   "source": [
    "### Let's take an example to understand a simple approach - \n",
    "Given linked list = [3, 4, 5, 2, 6, 1, 9] <br>\n",
    "position_one = 2<br>\n",
    "position_two = 5<br>\n",
    "**Note the original order of indexes - 0, 1, 2, 3, 4, 5, 6**<br>\n",
    "\n",
    "**Step 1** - Identify the two nodes to be swapped. Also, identify the previous of both the two nodes. \n",
    "\n",
    "**Step 2** - Swap the references making use of a temporary reference\n",
    "\n",
    "**Check the order of the updated indexes as - 0, 1, 5, 3, 4, 2, 6**, which implies that index 2 and index 5 have been swapped. \n"
   ]
  },
  {
   "cell_type": "markdown",
   "metadata": {
    "graffitiCellId": "id_2o4s6ai"
   },
   "source": [
    "### Helper Class"
   ]
  },
  {
   "cell_type": "code",
   "execution_count": 1,
   "metadata": {
    "graffitiCellId": "id_s77kdg7"
   },
   "outputs": [],
   "source": [
    "class Node:\n",
    "    \"\"\"LinkedListNode class to be used for this problem\"\"\"\n",
    "    def __init__(self, data):\n",
    "        self.data = data\n",
    "        self.next = None"
   ]
  },
  {
   "cell_type": "markdown",
   "metadata": {
    "graffitiCellId": "id_ker6u05"
   },
   "source": [
    "### Exercise - Write the function definition here"
   ]
  },
  {
   "cell_type": "code",
   "execution_count": 2,
   "metadata": {
    "graffitiCellId": "id_rvybfki"
   },
   "outputs": [],
   "source": [
    "def print_list(head):\n",
    "    print('printing list')\n",
    "    while head:\n",
    "        print(head.data, end=', ')\n",
    "        head = head.next\n",
    "    print()"
   ]
  },
  {
   "cell_type": "code",
   "execution_count": 3,
   "metadata": {
    "graffitiCellId": "id_c4tesrj"
   },
   "outputs": [],
   "source": [
    "\"\"\"\n",
    ":param: head- head of input linked list\n",
    ":param: `position_one` - indicates position (index) ONE\n",
    ":param: `position_two` - indicates position (index) TWO\n",
    "return: head of updated linked list with nodes swapped\n",
    "\n",
    "TODO: complete this function and swap nodes present at position_one and position_two\n",
    "Do not create a new linked list\n",
    "\"\"\"\n",
    "debug = True\n",
    "def swap_nodes(head, left_index, right_index):\n",
    "    global debug\n",
    "    left_node = left_node_prev = right_node = right_node_prev = None\n",
    "    node = head\n",
    "    prev = None\n",
    "    index = 0\n",
    "    if debug: print(f'starting search for index: {left_index}, {right_index}')\n",
    "    while node:\n",
    "        if debug: print(f'index = {index}')\n",
    "        if index == left_index:\n",
    "            if debug: print(f'index = {index}, value = {node.data}')\n",
    "            left_node = node\n",
    "            left_node_prev = prev\n",
    "        if index == right_index:\n",
    "            if debug: print(f'index = {index}, value = {node.data}')\n",
    "            right_node = node\n",
    "            right_node_prev = prev\n",
    "        if index > right_index:\n",
    "            if debug: print('ending search')\n",
    "            break\n",
    "        \n",
    "        prev = node\n",
    "        node = node.next\n",
    "        index += 1\n",
    "    \n",
    "    if debug:\n",
    "        print_list(head)\n",
    "        print('starting swap')\n",
    "        print(f'right_node_prev = {right_node_prev.data}, next = {right_node_prev.next.data}')    \n",
    "        print(f'right node = {right_node.data}, next = {right_node.next.data}')\n",
    "        if left_node_prev: print(f'left_node_prev = {left_node_prev.data}, next = {left_node_prev.next.data}')    \n",
    "        print(f'left node = {left_node.data}, next = {left_node.next.data}')\n",
    "    \n",
    "    \n",
    "    if left_node_prev:\n",
    "        left_node_prev.next = right_node\n",
    "    else:\n",
    "        head = right_node\n",
    "    right_node_prev.next = left_node\n",
    "    node = right_node.next\n",
    "    right_node.next = left_node.next\n",
    "    left_node.next = node\n",
    "    \n",
    "    if debug: print_list(head)\n",
    "    return head"
   ]
  },
  {
   "cell_type": "markdown",
   "metadata": {
    "graffitiCellId": "id_j94rzl9"
   },
   "source": [
    "### Test - Let's test your function"
   ]
  },
  {
   "cell_type": "code",
   "execution_count": 4,
   "metadata": {
    "graffitiCellId": "id_lzqbwc8"
   },
   "outputs": [],
   "source": [
    "def test_function(test_case):\n",
    "    head = test_case[0]\n",
    "    left_index = test_case[1]\n",
    "    right_index = test_case[2]\n",
    "    \n",
    "    left_node = None\n",
    "    right_node = None\n",
    "    \n",
    "    temp = head\n",
    "    index = 0\n",
    "    try:\n",
    "        while temp is not None:\n",
    "            if index == left_index:\n",
    "                left_node = temp\n",
    "            if index == right_index:\n",
    "                right_node = temp\n",
    "                break\n",
    "            index += 1\n",
    "            temp = temp.next\n",
    "\n",
    "        updated_head = swap_nodes(head, left_index, right_index)\n",
    "\n",
    "        temp = updated_head\n",
    "        index = 0\n",
    "        pass_status = [False, False]\n",
    "\n",
    "        while temp is not None:\n",
    "            if index == left_index:\n",
    "                pass_status[0] = temp is right_node\n",
    "            if index == right_index:\n",
    "                pass_status[1] = temp is left_node\n",
    "\n",
    "            index += 1\n",
    "            temp = temp.next\n",
    "\n",
    "        if pass_status[0] and pass_status[1]:\n",
    "            print(\"Pass\")\n",
    "        else:\n",
    "            print(\"Fail\")\n",
    "        return updated_head\n",
    "    except Exception as e:\n",
    "        print(\"Fail\")"
   ]
  },
  {
   "cell_type": "code",
   "execution_count": 5,
   "metadata": {
    "graffitiCellId": "id_dmn7hpj"
   },
   "outputs": [],
   "source": [
    "# helper functions for testing purpose\n",
    "def create_linked_list(arr):\n",
    "    if len(arr)==0:\n",
    "        return None\n",
    "    head = Node(arr[0])\n",
    "    tail = head\n",
    "    for data in arr[1:]:\n",
    "        tail.next = Node(data)\n",
    "        tail = tail.next\n",
    "    return head\n",
    "\n",
    "def print_linked_list(head):\n",
    "    while head:\n",
    "        print(head.data, end=\" \")\n",
    "        head = head.next\n",
    "    print()"
   ]
  },
  {
   "cell_type": "code",
   "execution_count": 6,
   "metadata": {
    "graffitiCellId": "id_vf3gh3b"
   },
   "outputs": [
    {
     "output_type": "stream",
     "name": "stdout",
     "text": [
      "Pass\n"
     ]
    }
   ],
   "source": [
    "debug = False\n",
    "arr = [3, 4, 5, 2, 6, 1, 9]\n",
    "head = create_linked_list(arr)\n",
    "left_index = 3\n",
    "right_index = 4\n",
    "\n",
    "test_case = [head, left_index, right_index]\n",
    "updated_head = test_function(test_case)"
   ]
  },
  {
   "cell_type": "code",
   "execution_count": 7,
   "metadata": {
    "graffitiCellId": "id_hmw9ljb"
   },
   "outputs": [
    {
     "output_type": "stream",
     "name": "stdout",
     "text": [
      "Pass\n"
     ]
    }
   ],
   "source": [
    "debug = False\n",
    "arr = [3, 4, 5, 2, 6, 1, 9]\n",
    "left_index = 2 \n",
    "right_index = 4\n",
    "head = create_linked_list(arr)\n",
    "test_case = [head, left_index, right_index]\n",
    "updated_head = test_function(test_case)"
   ]
  },
  {
   "cell_type": "code",
   "execution_count": 8,
   "metadata": {
    "graffitiCellId": "id_vekfhar"
   },
   "outputs": [
    {
     "output_type": "stream",
     "name": "stdout",
     "text": [
      "Pass\n"
     ]
    }
   ],
   "source": [
    "debug = False\n",
    "arr = [3, 4, 5, 2, 6, 1, 9]\n",
    "left_index = 0\n",
    "right_index = 1\n",
    "head = create_linked_list(arr)\n",
    "test_case = [head, left_index, right_index]\n",
    "updated_head = test_function(test_case)"
   ]
  },
  {
   "cell_type": "code",
   "execution_count": null,
   "metadata": {
    "graffitiCellId": "id_xq7aktt"
   },
   "outputs": [],
   "source": []
  }
 ],
 "metadata": {
  "graffiti": {
   "firstAuthorId": "dev",
   "id": "id_cuns29g",
   "language": "EN"
  },
  "kernelspec": {
   "name": "python3",
   "display_name": "Python 3.8.5 64-bit ('base': conda)"
  },
  "language_info": {
   "codemirror_mode": {
    "name": "ipython",
    "version": 3
   },
   "file_extension": ".py",
   "mimetype": "text/x-python",
   "name": "python",
   "nbconvert_exporter": "python",
   "pygments_lexer": "ipython3",
   "version": "3.8.5"
  },
  "interpreter": {
   "hash": "71511eaa893d3a5dcdacbd36fa71cad1ef9494e58397fba4ffb8c3d96abe4089"
  }
 },
 "nbformat": 4,
 "nbformat_minor": 2
}