{
 "cells": [
  {
   "cell_type": "markdown",
   "metadata": {
    "graffitiCellId": "id_m7du2yn"
   },
   "source": [
    "### Problem Statement\n",
    "\n",
    "You are given a non-negative number in the form of list elements. For example, the number `123` would be provided as `arr = [1, 2, 3]`. Add one to the number and return the output in the form of a new list. \n",
    "\n",
    "**Example 1:**\n",
    "* `input = [1, 2, 3]`\n",
    "* `output = [1, 2, 4]`\n",
    "\n",
    "\n",
    "**Example 2:**\n",
    "* `input = [1, 2, 9]`\n",
    "* `output = [1, 3, 0]`\n",
    "\n",
    "**Example 3:**\n",
    "* `input = [9, 9, 9]`\n",
    "* `output = [1, 0, 0, 0]`\n",
    "\n",
    "\n",
    "**Challenge:**\n",
    "One way to solve this problem is to convert the input array into a number and then add one to it. For example, if we have `input = [1, 2, 3]`, you could solve this problem by creating the number `123` and then separating the digits of the output number `124`.\n",
    "\n",
    "But can you solve it in some other way?\n",
    "\n",
    "### Exercise - Write your function definition here. \n",
    "**Note** - Try proposing a non-recursive solution. We will see a recursive solution in the next lesson \"Recursion\". "
   ]
  },
  {
   "cell_type": "code",
   "execution_count": 18,
   "metadata": {
    "graffitiCellId": "id_c3itdzc"
   },
   "outputs": [],
   "source": [
    "def add_one(arr):\n",
    "    \"\"\"\n",
    "    :param: arr - list of digits representing some number x\n",
    "    return a list with digits represengint (x + 1)\n",
    "    \"\"\"\n",
    "    print(arr)\n",
    "    carry = 1\n",
    "    for i in range(len(arr),0,-1):\n",
    "        arr[i-1] += carry\n",
    "        if arr[i-1] > 9:\n",
    "            arr[i-1] -= 10\n",
    "            carry = 1\n",
    "        else:\n",
    "            carry = 0\n",
    "                    \n",
    "    if carry > 0:\n",
    "        arr.insert(0, carry)\n",
    "        \n",
    "    print(arr) \n",
    "    return arr"
   ]
  },
  {
   "cell_type": "code",
   "execution_count": null,
   "metadata": {
    "graffitiCellId": "id_jahm5fv"
   },
   "outputs": [],
   "source": [
    "# Solution\n",
    "'''\n",
    "The Logic\n",
    "1. The idea is to start checking the array from the right end, in a FOR loop. \n",
    "2. Add 1 to the digit, and check if it lies in the range 0-9 OR becomes 10.\n",
    "3. If the updated digit is between 0-9, quit the FOR loop. (Example, original array is [1,2,3])\n",
    "4. Otherwise update the current position in the array, and carry over the \"borrow\" to the next left digit. (Example, original array is [9,9,9])\n",
    "5. Once, we finish iteratig over all the digits of the original array, we will be left with the final \"borrow\", either 0 or 1. Prepend this \"borrow\" to the original array. \n",
    "6. Return the updated array, but there is trick which helps us to select the starting index of the updated array. Example, [0, 1, 2, 4] is the updated array, and we want to return only [1, 2, 4]\n",
    "'''\n",
    "\n",
    "\n",
    "# Change the arr in-place\n",
    "def add_one(arr):\n",
    "    borrow = 1; # initial value\n",
    "    \n",
    "    \"\"\" \n",
    "    The three arguments of range() function are: \n",
    "    starting index, ending index(non-inclusive), and the increment/decrement value\n",
    "    \"\"\" \n",
    "    # Traverse in reverse direction starting from the end of the list\n",
    "    # The argument of range() functions are:\n",
    "    # starting index, ending index (non exclusive), and the increment/decrement size\n",
    "    for i in range(len(arr), 0, -1):     \n",
    "        \n",
    "        # The \"digit\" denotes the updated Unit, Tens, and then Hunderd  position iteratively\n",
    "        digit = borrow + arr[i - 1]       \n",
    "       \n",
    "        '''\n",
    "        The \"borrow\" will be carried to the next left digit \n",
    "        If the digit is between 0-9, borrrow will be 0. \n",
    "        If digit is 10, then the borrow will be 1.\n",
    "        '''\n",
    "        # The \"//\" is a floor division operator\n",
    "        borrow = digit//10               \n",
    "\n",
    "        if borrow == 0:\n",
    "            # Update the arr[i - 1] with the updated digit, and quit the FOR loop.\n",
    "            arr[i - 1] = digit\n",
    "            break\n",
    "        else:\n",
    "            # Update the arr[i - 1] with the remainder of (digit % 10)\n",
    "            arr[i - 1] = digit % 10\n",
    "    \n",
    "    # Prepend the final \"borrow\" to the original array.  \n",
    "    arr = [borrow] + arr\n",
    "    \n",
    "    # In this final updated arr, find a position (starting index) from where to return the list.\n",
    "    # For [0, 1, 2, 4] , the position (starting index) will be 1\n",
    "    # For [1, 0, 0, 0] , the position (starting index) will be 0\n",
    "    position = 0\n",
    "    while arr[position]==0:\n",
    "        position += 1\n",
    "\n",
    "    return arr[position:]\n",
    "\n",
    "\n",
    "#-------------------------------------#\n",
    "# Descriptive Example 1 - Original array is [1, 2, 3]\n",
    "#-------------------------------------#\n",
    "\n",
    "'''\n",
    "FOR LOOP BEGINS\n",
    "    For i=3 , arr[2]=3 , digit=4 , borrow=0\n",
    "        BORROW COMPARISON START\n",
    "            Since borrow is 0, update arr[2] = digit =  4 and quit the FOR loop.\n",
    "            NO need to check other digits on the left of current digit\n",
    "FOR LOOP ENDS\n",
    "\n",
    "Append  [0] to the beginning of the original arr. Now arr = [0, 1, 2, 4]\n",
    "In this final updated arr, find a position from where to return the list. This position (index) =  1\n",
    "Return  [1, 2, 4]\n",
    "\n",
    "'''\n",
    "#-------------------------------------#\n",
    "# Descriptive Example 2 - Original array is [9, 9, 9]\n",
    "#-------------------------------------#\n",
    "'''\n",
    "FOR LOOP BEGINS\n",
    "    For i=  3 , arr[ 2 ] =  9 , digit =  10 , borrow =  1\n",
    "        BORROW COMPARISON START\n",
    "            Since borrow is non-zero, update arr[ 2 ] = digit % 10 =  0\n",
    "            Update output = borrow = 1\n",
    "        BORROW COMPARISON ENDS \n",
    "\n",
    "    For i=  2 , arr[ 1 ] =  9 , digit =  10 , borrow =  1\n",
    "        BORROW COMPARISON START\n",
    "            Since borrow is non-zero, update arr[ 1 ] = digit % 10 =  0\n",
    "            Update output = borrow = 1\n",
    "        BORROW COMPARISON ENDS \n",
    "\n",
    "    For i=  1 , arr[ 0 ] =  9 , digit =  10 , borrow =  1\n",
    "        BORROW COMPARISON START\n",
    "            Since borrow is non-zero, update arr[ 0 ] = digit % 10 =  0\n",
    "            Update output = borrow = 1\n",
    "        BORROW COMPARISON ENDS \n",
    "\n",
    "FOR LOOP ENDS\n",
    "\n",
    "Append  [1] to the beginning of the original arr. Now arr = [1, 0, 0, 0]\n",
    "\n",
    "In this final updated arr, find a position from where to return the list. This position (index) =  0\n",
    "Return  [1, 0, 0, 0] \n",
    "'''"
   ]
  },
  {
   "cell_type": "markdown",
   "metadata": {
    "graffitiCellId": "id_3pjovzo"
   },
   "source": [
    "<span class=\"graffiti-highlight graffiti-id_3pjovzo-id_jahm5fv\"><i></i><button>Show Solution</button></span>"
   ]
  },
  {
   "cell_type": "code",
   "execution_count": 19,
   "metadata": {
    "graffitiCellId": "id_ejl0gzn"
   },
   "outputs": [],
   "source": [
    "# A helper function for Test Cases\n",
    "def test_function(test_case):\n",
    "    arr = test_case[0]\n",
    "    solution = test_case[1]\n",
    "    \n",
    "    output = add_one(arr)\n",
    "    for index, element in enumerate(output):\n",
    "        if element != solution[index]:\n",
    "            print(\"Fail\")\n",
    "            return\n",
    "    print(\"Pass\")      "
   ]
  },
  {
   "cell_type": "code",
   "execution_count": 20,
   "metadata": {
    "graffitiCellId": "id_r171xpy"
   },
   "outputs": [
    {
     "name": "stdout",
     "output_type": "stream",
     "text": [
      "[0]\n",
      "[1]\n",
      "Pass\n"
     ]
    }
   ],
   "source": [
    "# Test Case 1\n",
    "arr = [0]\n",
    "solution = [1]\n",
    "test_case = [arr, solution]\n",
    "test_function(test_case)"
   ]
  },
  {
   "cell_type": "code",
   "execution_count": 21,
   "metadata": {
    "graffitiCellId": "id_hxtikz2"
   },
   "outputs": [
    {
     "name": "stdout",
     "output_type": "stream",
     "text": [
      "[1, 2, 3]\n",
      "[1, 2, 4]\n",
      "Pass\n"
     ]
    }
   ],
   "source": [
    "# Test Case 2\n",
    "arr = [1, 2, 3]\n",
    "solution = [1, 2, 4]\n",
    "test_case = [arr, solution]\n",
    "test_function(test_case)"
   ]
  },
  {
   "cell_type": "code",
   "execution_count": 22,
   "metadata": {
    "graffitiCellId": "id_ov2b5hw"
   },
   "outputs": [
    {
     "name": "stdout",
     "output_type": "stream",
     "text": [
      "[9, 9, 9]\n",
      "[1, 0, 0, 0]\n",
      "Pass\n"
     ]
    }
   ],
   "source": [
    "# Test Case 3\n",
    "arr = [9, 9, 9]\n",
    "solution = [1, 0, 0, 0]\n",
    "test_case = [arr, solution]\n",
    "test_function(test_case)"
   ]
  },
  {
   "cell_type": "code",
   "execution_count": null,
   "metadata": {
    "graffitiCellId": "id_3ansssz"
   },
   "outputs": [],
   "source": []
  }
 ],
 "metadata": {
  "graffiti": {
   "firstAuthorId": "dev",
   "id": "id_s3vt1b9",
   "language": "EN"
  },
  "kernelspec": {
   "display_name": "Python 3",
   "language": "python",
   "name": "python3"
  },
  "language_info": {
   "codemirror_mode": {
    "name": "ipython",
    "version": 3
   },
   "file_extension": ".py",
   "mimetype": "text/x-python",
   "name": "python",
   "nbconvert_exporter": "python",
   "pygments_lexer": "ipython3",
   "version": "3.6.3"
  }
 },
 "nbformat": 4,
 "nbformat_minor": 2
}
