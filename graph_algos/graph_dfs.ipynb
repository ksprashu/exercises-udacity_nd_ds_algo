{
 "cells": [
  {
   "cell_type": "markdown",
   "source": [
    "# Graph Depth First Search\n",
    "In this exercise, you'll see how to do a depth first search on a graph. To start, let's create a graph class in Python."
   ],
   "metadata": {
    "graffitiCellId": "id_m8owu67"
   }
  },
  {
   "cell_type": "code",
   "execution_count": 1,
   "source": [
    "class GraphNode(object):\n",
    "    def __init__(self, val):\n",
    "        self.value = val\n",
    "        self.children = []\n",
    "        \n",
    "    def add_child(self,new_node):\n",
    "        self.children.append(new_node)\n",
    "    \n",
    "    def remove_child(self,del_node):\n",
    "        if del_node in self.children:\n",
    "            self.children.remove(del_node)\n",
    "\n",
    "class Graph(object):\n",
    "    def __init__(self,node_list):\n",
    "        self.nodes = node_list\n",
    "        \n",
    "    def add_edge(self,node1,node2):\n",
    "        if(node1 in self.nodes and node2 in self.nodes):\n",
    "            node1.add_child(node2)\n",
    "            node2.add_child(node1)\n",
    "            \n",
    "    def remove_edge(self,node1,node2):\n",
    "        if(node1 in self.nodes and node2 in self.nodes):\n",
    "            node1.remove_child(node2)\n",
    "            node2.remove_child(node1)"
   ],
   "outputs": [],
   "metadata": {
    "graffitiCellId": "id_ahrjg5m"
   }
  },
  {
   "cell_type": "markdown",
   "source": [
    "Now let's create the graph."
   ],
   "metadata": {
    "graffitiCellId": "id_1gmwlh4"
   }
  },
  {
   "cell_type": "code",
   "execution_count": 2,
   "source": [
    "nodeG = GraphNode('G')\n",
    "nodeR = GraphNode('R')\n",
    "nodeA = GraphNode('A')\n",
    "nodeP = GraphNode('P')\n",
    "nodeH = GraphNode('H')\n",
    "nodeS = GraphNode('S')\n",
    "\n",
    "graph1 = Graph([nodeS,nodeH,nodeG,nodeP,nodeR,nodeA] ) \n",
    "graph1.add_edge(nodeG,nodeR)\n",
    "graph1.add_edge(nodeA,nodeR)\n",
    "graph1.add_edge(nodeA,nodeG)\n",
    "graph1.add_edge(nodeR,nodeP)\n",
    "graph1.add_edge(nodeH,nodeG)\n",
    "graph1.add_edge(nodeH,nodeP)\n",
    "graph1.add_edge(nodeS,nodeR)"
   ],
   "outputs": [],
   "metadata": {
    "graffitiCellId": "id_7t1mjv6"
   }
  },
  {
   "cell_type": "markdown",
   "source": [
    "## Implement DFS\n",
    "Using what you know about DFS for trees, apply this to graphs. Implement the `dfs_search` to return the `GraphNode` with the value `search_value` starting at the `root_node`."
   ],
   "metadata": {
    "graffitiCellId": "id_8vfpmgw"
   }
  },
  {
   "cell_type": "code",
   "execution_count": 3,
   "source": [
    "def dfs_search(root_node, search_value):\n",
    "    \"\"\"Iterate from root_node until search_value is found.\n",
    "    \"\"\"\n",
    "    visited = set()\n",
    "    stack = [root_node]\n",
    "    while stack:\n",
    "        current = stack.pop()\n",
    "        visited.add(current)\n",
    "        if search_value == current.value:\n",
    "            return current\n",
    "        for child in current.children:\n",
    "            if child not in visited and child not in stack:\n",
    "                stack.append(child)\n",
    "           \n",
    "    "
   ],
   "outputs": [],
   "metadata": {
    "graffitiCellId": "id_k6nhmo1"
   }
  },
  {
   "cell_type": "markdown",
   "source": [
    "### Tests"
   ],
   "metadata": {
    "graffitiCellId": "id_0aafts6"
   }
  },
  {
   "cell_type": "code",
   "execution_count": 4,
   "source": [
    "assert nodeA == dfs_search(nodeS, 'A')\n",
    "assert nodeS == dfs_search(nodeP, 'S')\n",
    "assert nodeR == dfs_search(nodeH, 'R')"
   ],
   "outputs": [],
   "metadata": {
    "graffitiCellId": "id_3k4dgr7"
   }
  },
  {
   "cell_type": "code",
   "execution_count": null,
   "source": [],
   "outputs": [],
   "metadata": {
    "graffitiCellId": "id_z3nrruq"
   }
  }
 ],
 "metadata": {
  "graffiti": {
   "firstAuthorId": "10694620118",
   "id": "id_9f31yr7",
   "language": "EN"
  },
  "kernelspec": {
   "display_name": "Python 3",
   "language": "python",
   "name": "python3"
  },
  "language_info": {
   "codemirror_mode": {
    "name": "ipython",
    "version": 3
   },
   "file_extension": ".py",
   "mimetype": "text/x-python",
   "name": "python",
   "nbconvert_exporter": "python",
   "pygments_lexer": "ipython3",
   "version": "3.6.3"
  }
 },
 "nbformat": 4,
 "nbformat_minor": 2
}