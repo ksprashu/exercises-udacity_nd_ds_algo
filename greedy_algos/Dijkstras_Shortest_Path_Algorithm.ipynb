{
 "cells": [
  {
   "cell_type": "markdown",
   "source": [
    "## Dijkstra's Shortest Path Algorithm\n",
    "Suppose there is graph having nodes, where each node represents a city. A few pair of nodes are connected to each other, with their distance mentioned on the conneting edge, as shown in the figure below:\n",
    "<img style=\"float: center;height:250px;\" src=\"graph1.png\"><br>\n",
    "\n",
    "To find the shortest path from a given source to destination node in the example above, a Greedy approach would be - *At each current node, keep track of the nearest neighbour. We can determine the path in the reverse order once we have a table of nearest neighbours (optimal previous nodes).* For example, C is the optimal previous node for E. This way, the shortest path from `A` to `E` would be `A --> D --> C --> E`, as shown below:\n",
    "<img style=\"float: center;height:250px;\" src=\"graph2.png\"><br>\n",
    "\n",
    "And, if we wish to print the distance of each node from `A`, then it would look like:\n",
    "<img style=\"float: center;height:250px;\" src=\"graph3.png\"><br>\n",
    "\n",
    "Here, the **Previous Optimal Node** is the \"best\" node which could lead us to the current node. \n",
    "\n",
    "## The Problem\n",
    "Using Dijkstra's algorithm, find the shortest path to all the nodes starting from a given single source node.  You need to print the distance of each node from the given source node. For the example quoted above, the distance of each node from `A` would be printed as:<br>\n",
    "```\n",
    "{'A': 0, 'D': 2, 'B': 5, 'E': 4, 'C': 3, 'F': 6}\n",
    "```"
   ],
   "metadata": {
    "graffitiCellId": "id_qq1t7ap"
   }
  },
  {
   "cell_type": "markdown",
   "source": [
    "## The Algorithm\n",
    "1. Create a `result` dictionary. At the end of the program, `result` will have the shortest distance (value) for all nodes (key) in the graph. For our example, it will become as `{'A': 0, 'B': 5, 'C': 3, 'D': 2, 'F': 6, 'E': 4}`<br><br>\n",
    "1. Start with the source node. Distance from source to source itself is 0.  <br><br>\n",
    "1. The distance to all other nodes from the source is unknown initially, therefore set the initial distance to infinity.  <br><br>\n",
    "1. Create a set `unvisited` containing nodes that have not been visited. Initially, it will have all nodes of the graph.<br><br>\n",
    "1. Create a `path` dictionary that keeps track of the previous node (value) that can lead to the current node (key). At the end of the program, for our example, it will become as `{'B': 'A', 'C': 'D', 'D': 'A', 'F': 'C', 'E': 'C'}`. <br><br>\n",
    "1. As long as `unvisited` is non-empty, repeat the following:\n",
    " - Find the unvisited node having smallest known distance from the source node.  <br><br>\n",
    " - For the current node, find all the **unvisited neighbours**. For this, you have calculate the distance of each unvisited neighbour.  <br><br>\n",
    " - If the calculated distance of the **unvisited neighbour** is less than the already known distance in `result` dictionary, update the shortest distance in the `result` dictionary. <br><br>\n",
    " - If there is an update in the `result` dictionary, you need to update the `path` dictionary as well for the same key. <br><br>\n",
    " - Remove the current node from the `unvisited` set.\n",
    "\n",
    "\n",
    "**Note** - This implementation of the Dijkstra's algorithm is not very efficient. Currently it has a *O(n^2)* time complexity. We will see a better version in the next lesson - \"Graph Algorithms\" with *O(nlogn)* time complexity."
   ],
   "metadata": {
    "graffitiCellId": "id_75htzek"
   }
  },
  {
   "cell_type": "code",
   "execution_count": 1,
   "source": [
    "# Helper Code\n",
    "from collections import defaultdict\n",
    "class Graph:\n",
    "    def __init__(self):\n",
    "        self.nodes = set()                   # A set cannot contain duplicate nodes\n",
    "        self.neighbours = defaultdict(list)  # Defaultdict is a child class of Dictionary that provides a default value for a key that does not exists.\n",
    "        self.distances = {}                  # Dictionary. An example record as ('A', 'B'): 6 shows the distance between 'A' to 'B' is 6 units\n",
    "\n",
    "    def add_node(self, value):\n",
    "        self.nodes.add(value)\n",
    "\n",
    "    def add_edge(self, from_node, to_node, distance):\n",
    "        self.neighbours[from_node].append(to_node)\n",
    "        self.neighbours[to_node].append(from_node)\n",
    "        self.distances[(from_node, to_node)] = distance\n",
    "        self.distances[(to_node, from_node)] = distance    # lets make the graph undirected / bidirectional \n",
    "        \n",
    "    def print_graph(self):\n",
    "        print(\"Set of Nodes are: \", self.nodes)\n",
    "        print(\"Neighbours are: \", self.neighbours)\n",
    "        print(\"Distances are: \", self.distances)"
   ],
   "outputs": [],
   "metadata": {
    "graffitiCellId": "id_kowh9ph"
   }
  },
  {
   "cell_type": "markdown",
   "source": [
    "### Exercise - Write the function definition here\n"
   ],
   "metadata": {
    "graffitiCellId": "id_cgrnklc"
   }
  },
  {
   "cell_type": "code",
   "execution_count": 2,
   "source": [
    "import copy\n",
    "import math\n",
    "\n",
    "''' TO DO: Find the shortest path from the source node to every other node in the given graph '''\n",
    "def dijkstra(graph, source):\n",
    "    # Declare and initialize result, unvisited, and path\n",
    "    # initialize unvisited to all the nodes\n",
    "    unvisited = [n for n in graph.nodes if n != source]\n",
    "\n",
    "    # result is the distance of all the nodes from the source node\n",
    "    # start by setting all the nodes to distance infinity (nan)\n",
    "    result = {n: math.nan for n in graph.nodes}\n",
    "    result[source] = 0  # source node is at distance 0\n",
    "\n",
    "    # update result with distances of known nodes\n",
    "    distances = {t: d for (s, t), d in graph.distances.items() if s == source}\n",
    "    for t, d in distances.items():\n",
    "        result[t] = d\n",
    "   \n",
    "    # Get neighbours and distances from source\n",
    "    neighbours = graph.neighbours[source]\n",
    "    path = {n: source for n in neighbours}   \n",
    "\n",
    "    print(f'unvisited = {unvisited}')\n",
    "    print(f'result = {result}')\n",
    "    print(f'path = {path}')\n",
    "    # As long as unvisited is non-empty\n",
    "    while unvisited: \n",
    "        print('\\nstarting new iteration')\n",
    "        \n",
    "        # 1. Find the unvisited node having smallest known distance from the source node.\n",
    "        nodes = {t: d for t, d in result.items() if t in unvisited and d is not math.nan}\n",
    "        current = min(nodes, key=nodes.get)\n",
    "        print(f'navigating to node {current}')\n",
    "        \n",
    "        # 2. For the current node, find all the unvisited neighbours. \n",
    "        # For this, you have calculate the distance of each unvisited neighbour.\n",
    "        neighbours = [n for n in graph.neighbours[current] if n in unvisited]\n",
    "        distances = {t: d for (s, t), d in graph.distances.items() if s == current and t in neighbours}\n",
    "        print(f'neighbours are {distances.keys()}')\n",
    "        \n",
    "        # 3. If the calculated distance of the unvisited neighbour is less than \n",
    "        # the already known distance in result dictionary, \n",
    "        # update the shortest distance in the result dictionary.\n",
    "        for n in neighbours:\n",
    "            new_distance = result[current] + distances[n]\n",
    "            if result[n] is math.nan or new_distance < result[n]:\n",
    "                result[n] = new_distance\n",
    "\n",
    "                # 4. If there is an update in the result dictionary, \n",
    "                ## you need to update the path dictionary as well for the same key.\n",
    "                path[n] = current\n",
    "\n",
    "        # 5. Remove the current node from the unvisited set.\n",
    "        unvisited.remove(current)\n",
    "        \n",
    "        print(f'unvisited = {unvisited}')\n",
    "        print(f'result = {result}')\n",
    "        print(f'path = {path}')        \n",
    "\n",
    "    return result"
   ],
   "outputs": [],
   "metadata": {
    "graffitiCellId": "id_lo3by3j"
   }
  },
  {
   "cell_type": "markdown",
   "source": [
    "### Test - Let's test your function"
   ],
   "metadata": {
    "graffitiCellId": "id_hae4wv9"
   }
  },
  {
   "cell_type": "code",
   "execution_count": 3,
   "source": [
    "# Test 1\n",
    "graph1 = Graph()\n",
    "for node in ['A', 'B', 'C', 'D', 'E']:\n",
    "    graph1.add_node(node)\n",
    "\n",
    "graph1.add_edge('A','B',3)\n",
    "graph1.add_edge('A','D',2)\n",
    "graph1.add_edge('B','D',4)\n",
    "graph1.add_edge('B','E',6)\n",
    "graph1.add_edge('B','C',1)\n",
    "graph1.add_edge('C','E',2)\n",
    "graph1.add_edge('E','D',1)"
   ],
   "outputs": [],
   "metadata": {
    "graffitiCellId": "id_gh91otb"
   }
  },
  {
   "cell_type": "code",
   "execution_count": 4,
   "source": [
    "print(dijkstra(graph1, 'A'))     # {'A': 0, 'D': 2, 'B': 3, 'E': 3, 'C': 4}"
   ],
   "outputs": [
    {
     "output_type": "stream",
     "name": "stdout",
     "text": [
      "unvisited = ['E', 'B', 'C', 'D']\n",
      "result = {'A': 0, 'E': nan, 'B': 3, 'C': nan, 'D': 2}\n",
      "path = {'B': 'A', 'D': 'A'}\n",
      "\n",
      "starting new iteration\n",
      "navigating to node D\n",
      "neighbours are dict_keys(['B', 'E'])\n",
      "unvisited = ['E', 'B', 'C']\n",
      "result = {'A': 0, 'E': 3, 'B': 3, 'C': nan, 'D': 2}\n",
      "path = {'B': 'A', 'D': 'A', 'E': 'D'}\n",
      "\n",
      "starting new iteration\n",
      "navigating to node E\n",
      "neighbours are dict_keys(['B', 'C'])\n",
      "unvisited = ['B', 'C']\n",
      "result = {'A': 0, 'E': 3, 'B': 3, 'C': 5, 'D': 2}\n",
      "path = {'B': 'A', 'D': 'A', 'E': 'D', 'C': 'E'}\n",
      "\n",
      "starting new iteration\n",
      "navigating to node B\n",
      "neighbours are dict_keys(['C'])\n",
      "unvisited = ['C']\n",
      "result = {'A': 0, 'E': 3, 'B': 3, 'C': 4, 'D': 2}\n",
      "path = {'B': 'A', 'D': 'A', 'E': 'D', 'C': 'B'}\n",
      "\n",
      "starting new iteration\n",
      "navigating to node C\n",
      "neighbours are dict_keys([])\n",
      "unvisited = []\n",
      "result = {'A': 0, 'E': 3, 'B': 3, 'C': 4, 'D': 2}\n",
      "path = {'B': 'A', 'D': 'A', 'E': 'D', 'C': 'B'}\n",
      "{'A': 0, 'E': 3, 'B': 3, 'C': 4, 'D': 2}\n"
     ]
    }
   ],
   "metadata": {
    "graffitiCellId": "id_f7yhb7g"
   }
  },
  {
   "cell_type": "code",
   "execution_count": 5,
   "source": [
    "# Test 2\n",
    "graph2 = Graph()\n",
    "for node in ['A', 'B', 'C']:\n",
    "    graph2.add_node(node)\n",
    "    \n",
    "graph2.add_edge('A', 'B', 5)\n",
    "graph2.add_edge('B', 'C', 5)\n",
    "graph2.add_edge('A', 'C', 10)"
   ],
   "outputs": [],
   "metadata": {
    "graffitiCellId": "id_i5pengy"
   }
  },
  {
   "cell_type": "code",
   "execution_count": 6,
   "source": [
    "print(dijkstra(graph2, 'A'))        # {'A': 0, 'C': 10, 'B': 5}"
   ],
   "outputs": [
    {
     "output_type": "stream",
     "name": "stdout",
     "text": [
      "unvisited = ['B', 'C']\n",
      "result = {'B': 5, 'A': 0, 'C': 10}\n",
      "path = {'B': 'A', 'C': 'A'}\n",
      "\n",
      "starting new iteration\n",
      "navigating to node B\n",
      "neighbours are dict_keys(['C'])\n",
      "unvisited = ['C']\n",
      "result = {'B': 5, 'A': 0, 'C': 10}\n",
      "path = {'B': 'A', 'C': 'A'}\n",
      "\n",
      "starting new iteration\n",
      "navigating to node C\n",
      "neighbours are dict_keys([])\n",
      "unvisited = []\n",
      "result = {'B': 5, 'A': 0, 'C': 10}\n",
      "path = {'B': 'A', 'C': 'A'}\n",
      "{'B': 5, 'A': 0, 'C': 10}\n"
     ]
    }
   ],
   "metadata": {
    "graffitiCellId": "id_1ai0qqh"
   }
  },
  {
   "cell_type": "code",
   "execution_count": 7,
   "source": [
    "# Test 3\n",
    "graph3 = Graph()\n",
    "for node in ['A', 'B', 'C', 'D', 'E', 'F']:\n",
    "    graph3.add_node(node)\n",
    "    \n",
    "graph3.add_edge('A', 'B', 5)\n",
    "graph3.add_edge('A', 'C', 4)\n",
    "graph3.add_edge('D', 'C', 1)\n",
    "graph3.add_edge('B', 'C', 2)\n",
    "graph3.add_edge('A', 'D', 2)\n",
    "graph3.add_edge('B', 'F', 2)\n",
    "graph3.add_edge('C', 'F', 3)\n",
    "graph3.add_edge('E', 'F', 2)\n",
    "graph3.add_edge('C', 'E', 1)\n",
    "\n"
   ],
   "outputs": [],
   "metadata": {
    "graffitiCellId": "id_mna3duu"
   }
  },
  {
   "cell_type": "code",
   "execution_count": 8,
   "source": [
    "print(dijkstra(graph3, 'A'))       # {'A': 0, 'C': 3, 'B': 5, 'E': 4, 'D': 2, 'F': 6}"
   ],
   "outputs": [
    {
     "output_type": "stream",
     "name": "stdout",
     "text": [
      "unvisited = ['F', 'E', 'B', 'C', 'D']\n",
      "result = {'F': nan, 'A': 0, 'E': nan, 'B': 5, 'C': 4, 'D': 2}\n",
      "path = {'B': 'A', 'C': 'A', 'D': 'A'}\n",
      "\n",
      "starting new iteration\n",
      "navigating to node D\n",
      "neighbours are dict_keys(['C'])\n",
      "unvisited = ['F', 'E', 'B', 'C']\n",
      "result = {'F': nan, 'A': 0, 'E': nan, 'B': 5, 'C': 3, 'D': 2}\n",
      "path = {'B': 'A', 'C': 'D', 'D': 'A'}\n",
      "\n",
      "starting new iteration\n",
      "navigating to node C\n",
      "neighbours are dict_keys(['B', 'F', 'E'])\n",
      "unvisited = ['F', 'E', 'B']\n",
      "result = {'F': 6, 'A': 0, 'E': 4, 'B': 5, 'C': 3, 'D': 2}\n",
      "path = {'B': 'A', 'C': 'D', 'D': 'A', 'F': 'C', 'E': 'C'}\n",
      "\n",
      "starting new iteration\n",
      "navigating to node E\n",
      "neighbours are dict_keys(['F'])\n",
      "unvisited = ['F', 'B']\n",
      "result = {'F': 6, 'A': 0, 'E': 4, 'B': 5, 'C': 3, 'D': 2}\n",
      "path = {'B': 'A', 'C': 'D', 'D': 'A', 'F': 'C', 'E': 'C'}\n",
      "\n",
      "starting new iteration\n",
      "navigating to node B\n",
      "neighbours are dict_keys(['F'])\n",
      "unvisited = ['F']\n",
      "result = {'F': 6, 'A': 0, 'E': 4, 'B': 5, 'C': 3, 'D': 2}\n",
      "path = {'B': 'A', 'C': 'D', 'D': 'A', 'F': 'C', 'E': 'C'}\n",
      "\n",
      "starting new iteration\n",
      "navigating to node F\n",
      "neighbours are dict_keys([])\n",
      "unvisited = []\n",
      "result = {'F': 6, 'A': 0, 'E': 4, 'B': 5, 'C': 3, 'D': 2}\n",
      "path = {'B': 'A', 'C': 'D', 'D': 'A', 'F': 'C', 'E': 'C'}\n",
      "{'F': 6, 'A': 0, 'E': 4, 'B': 5, 'C': 3, 'D': 2}\n"
     ]
    }
   ],
   "metadata": {
    "graffitiCellId": "id_xa1hrwg"
   }
  },
  {
   "cell_type": "code",
   "execution_count": null,
   "source": [],
   "outputs": [],
   "metadata": {
    "graffitiCellId": "id_wn3w5sz"
   }
  }
 ],
 "metadata": {
  "graffiti": {
   "firstAuthorId": "af9e0b36-2ad2-11ea-83c4-a78dc7ef519f",
   "id": "id_muf5xfw",
   "language": "EN"
  },
  "kernelspec": {
   "display_name": "Python 3",
   "language": "python",
   "name": "python3"
  },
  "language_info": {
   "codemirror_mode": {
    "name": "ipython",
    "version": 3
   },
   "file_extension": ".py",
   "mimetype": "text/x-python",
   "name": "python",
   "nbconvert_exporter": "python",
   "pygments_lexer": "ipython3",
   "version": "3.6.3"
  }
 },
 "nbformat": 4,
 "nbformat_minor": 2
}