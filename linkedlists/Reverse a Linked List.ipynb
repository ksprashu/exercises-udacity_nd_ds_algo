{
 "cells": [
  {
   "cell_type": "markdown",
   "metadata": {
    "graffitiCellId": "id_cead7md"
   },
   "source": [
    "# Reversing a linked list exercise\n",
    "\n",
    "Given a singly linked list, return another linked list that is the reverse of the first."
   ]
  },
  {
   "cell_type": "code",
   "execution_count": 1,
   "metadata": {
    "graffitiCellId": "id_hitzgz4"
   },
   "outputs": [],
   "source": [
    "# Helper Code\n",
    "\n",
    "class Node:\n",
    "    def __init__(self, value):\n",
    "        self.value = value\n",
    "        self.next = None\n",
    "\n",
    "class LinkedList:\n",
    "    def __init__(self):\n",
    "        self.head = None\n",
    "        \n",
    "    def append(self, value):\n",
    "        if self.head is None:\n",
    "            self.head = Node(value)\n",
    "            return\n",
    "        \n",
    "        node = self.head\n",
    "        while node.next:\n",
    "            node = node.next\n",
    "\n",
    "        node.next = Node(value)\n",
    "        \n",
    "    def __iter__(self):\n",
    "        node = self.head\n",
    "        while node:\n",
    "            yield node.value\n",
    "            node = node.next\n",
    "            \n",
    "    def __repr__(self):\n",
    "        return str([v for v in self])"
   ]
  },
  {
   "cell_type": "markdown",
   "metadata": {
    "graffitiCellId": "id_uhfa8px"
   },
   "source": [
    "### Write the function definition here"
   ]
  },
  {
   "cell_type": "code",
   "execution_count": 2,
   "metadata": {
    "graffitiCellId": "id_lohit3u"
   },
   "outputs": [],
   "source": [
    "def reverse(linked_list):\n",
    "    \"\"\"\n",
    "    Reverse the inputted linked list\n",
    "\n",
    "    Args:\n",
    "       linked_list(obj): Linked List to be reversed\n",
    "    Returns:\n",
    "       obj: Reveresed Linked List\n",
    "    \"\"\"\n",
    "    \n",
    "    # TODO: Write your function to reverse linked lists here\n",
    "    new_list = LinkedList()\n",
    "    for val in linked_list:\n",
    "        new_node = Node(val)\n",
    "        new_node.next = new_list.head\n",
    "        new_list.head = new_node    \n",
    "    \n",
    "    return new_list"
   ]
  },
  {
   "cell_type": "markdown",
   "metadata": {
    "graffitiCellId": "id_imzm0sv"
   },
   "source": [
    "### Let's test your function"
   ]
  },
  {
   "cell_type": "code",
   "execution_count": 3,
   "metadata": {
    "graffitiCellId": "id_xm503ob"
   },
   "outputs": [
    {
     "output_type": "stream",
     "name": "stdout",
     "text": [
      "Pass\n"
     ]
    }
   ],
   "source": [
    "llist = LinkedList()\n",
    "for value in [4,2,5,1,-3,0]:\n",
    "    llist.append(value)\n",
    "\n",
    "flipped = reverse(llist)\n",
    "is_correct = list(flipped) == list([0,-3,1,5,2,4]) and list(llist) == list(reverse(flipped))\n",
    "print(\"Pass\" if is_correct else \"Fail\")"
   ]
  },
  {
   "cell_type": "code",
   "execution_count": null,
   "metadata": {
    "graffitiCellId": "id_r6i1ug2"
   },
   "outputs": [],
   "source": []
  }
 ],
 "metadata": {
  "graffiti": {
   "firstAuthorId": "10694620118",
   "id": "id_dvlxolz",
   "language": "EN"
  },
  "kernelspec": {
   "name": "python3",
   "display_name": "Python 3.8.5 64-bit ('base': conda)"
  },
  "language_info": {
   "codemirror_mode": {
    "name": "ipython",
    "version": 3
   },
   "file_extension": ".py",
   "mimetype": "text/x-python",
   "name": "python",
   "nbconvert_exporter": "python",
   "pygments_lexer": "ipython3",
   "version": "3.8.5"
  },
  "interpreter": {
   "hash": "71511eaa893d3a5dcdacbd36fa71cad1ef9494e58397fba4ffb8c3d96abe4089"
  }
 },
 "nbformat": 4,
 "nbformat_minor": 2
}