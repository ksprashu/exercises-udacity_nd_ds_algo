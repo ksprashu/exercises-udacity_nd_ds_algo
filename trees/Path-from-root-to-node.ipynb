{
 "cells": [
  {
   "cell_type": "markdown",
   "metadata": {},
   "source": [
    "## Problem Statement\n",
    "\n",
    "Given the root of a Binary Tree and a `data` value representing a node, return the path from the root to that node in the form of a list. You can assume that the binary tree has nodes with unique values. "
   ]
  },
  {
   "cell_type": "code",
   "execution_count": 1,
   "metadata": {},
   "outputs": [],
   "source": [
    "class BinaryTreeNode:\n",
    "\n",
    "    def __init__(self, data):\n",
    "        self.data = data\n",
    "        self.left = None\n",
    "        self.right = None"
   ]
  },
  {
   "cell_type": "markdown",
   "metadata": {},
   "source": [
    "You can use the following function to test your code with custom test cases. The function `convert_arr_to_binary_tree` takes an array input representing level-order traversal of the binary tree.\n",
    "\n",
    "\n",
    "<img src='./resources/01-binary-tree.png'>\n",
    "\n",
    "The above tree would be represented as `arr = [1, 2, 3, 4, None, 5, None, None, None, None, None]`\n",
    "\n",
    "Notice that the level order traversal of the above tree would be `[1, 2, 3, 4, 5]`. \n",
    "\n",
    "Note the following points about this tree:\n",
    "* `None` represnts lack of node. For example, `2` only has a left node; therefore, the next node after `4` (in level order) is represented as `None`\n",
    "* Similarly, `3` only has a left node; hence, the next node after `5` (in level order) is represted as `None`.\n",
    "* Also, `4` and `5` don't have any children. Therefore, the spots for their children in level order are represented by four `None` values (for each child of `4` and `5`)"
   ]
  },
  {
   "cell_type": "code",
   "execution_count": 2,
   "metadata": {},
   "outputs": [],
   "source": [
    "from queue import Queue\n",
    "\n",
    "def convert_arr_to_binary_tree(arr):\n",
    "    \"\"\"\n",
    "    Takes arr representing level-order traversal of Binary Tree \n",
    "    \"\"\"\n",
    "    index = 0\n",
    "    length = len(arr)\n",
    "    \n",
    "    if length <= 0 or arr[0] == -1:\n",
    "        return None\n",
    "\n",
    "    root = BinaryTreeNode(arr[index])\n",
    "    index += 1\n",
    "    queue = Queue()\n",
    "    queue.put(root)\n",
    "    \n",
    "    while not queue.empty():\n",
    "        current_node = queue.get()\n",
    "        left_child = arr[index]\n",
    "        index += 1\n",
    "        \n",
    "        if left_child is not None:\n",
    "            left_node = BinaryTreeNode(left_child)\n",
    "            current_node.left = left_node\n",
    "            queue.put(left_node)\n",
    "        \n",
    "        right_child = arr[index]\n",
    "        index += 1\n",
    "        \n",
    "        if right_child is not None:\n",
    "            right_node = BinaryTreeNode(right_child)\n",
    "            current_node.right = right_node\n",
    "            queue.put(right_node)\n",
    "    return root\n"
   ]
  },
  {
   "cell_type": "code",
   "execution_count": 32,
   "metadata": {},
   "outputs": [],
   "source": [
    "def _traverse(node, data):\n",
    "    if not node:\n",
    "        return []\n",
    "    left = []\n",
    "    right = []\n",
    "    if node.left:\n",
    "        left = _traverse(node.left, data)\n",
    "    if node.right:\n",
    "        right = _traverse(node.right, data)\n",
    "    return left + right + [node.data]"
   ]
  },
  {
   "cell_type": "code",
   "execution_count": 107,
   "metadata": {},
   "outputs": [],
   "source": [
    "def path_from_root_to_node(root, data):\n",
    "    \"\"\"\n",
    "    :param: root - root of binary tree\n",
    "    :param: data - value (representing a node)\n",
    "    TODO: complete this method and return a list containing values of each node in the path\n",
    "    from root to the data node\n",
    "    \"\"\"\n",
    "    # search each side\n",
    "    # push into stack as we go lower, \n",
    "    # pop from stack when we come up\n",
    "    visit_order = list()\n",
    "    def _search(node, data):\n",
    "        # base condition, \n",
    "        if not node:\n",
    "            return False\n",
    "        \n",
    "        visit_order.append(node.data)\n",
    "        \n",
    "        # if node is found\n",
    "        if node.data == data:\n",
    "            return True\n",
    "            \n",
    "        found = False\n",
    "        if node.left:\n",
    "            found = _search(node.left, data)\n",
    "            \n",
    "        if not found and node.right:\n",
    "            found = _search(node.right, data)\n",
    "            \n",
    "        # if nothing was found\n",
    "        if not found:\n",
    "            val = visit_order.pop()\n",
    "            return False\n",
    "        \n",
    "        return True\n",
    "    \n",
    "    if _search(root, data):\n",
    "        return visit_order\n",
    "    else:\n",
    "        return []"
   ]
  },
  {
   "cell_type": "code",
   "execution_count": 108,
   "metadata": {},
   "outputs": [
    {
     "data": {
      "text/plain": [
       "[1]"
      ]
     },
     "execution_count": 108,
     "metadata": {},
     "output_type": "execute_result"
    }
   ],
   "source": [
    "path_from_root_to_node(convert_arr_to_binary_tree([1, None, None]), 1)"
   ]
  },
  {
   "cell_type": "code",
   "execution_count": 109,
   "metadata": {},
   "outputs": [
    {
     "data": {
      "text/plain": [
       "[]"
      ]
     },
     "execution_count": 109,
     "metadata": {},
     "output_type": "execute_result"
    }
   ],
   "source": [
    "path_from_root_to_node(convert_arr_to_binary_tree([1, None, None]), 2)"
   ]
  },
  {
   "cell_type": "code",
   "execution_count": 110,
   "metadata": {},
   "outputs": [
    {
     "data": {
      "text/plain": [
       "[1, 2]"
      ]
     },
     "execution_count": 110,
     "metadata": {},
     "output_type": "execute_result"
    }
   ],
   "source": [
    "path_from_root_to_node(convert_arr_to_binary_tree([1, 2, 3, None, None, None, None]), 2)"
   ]
  },
  {
   "cell_type": "code",
   "execution_count": 111,
   "metadata": {},
   "outputs": [
    {
     "data": {
      "text/plain": [
       "[1, 3]"
      ]
     },
     "execution_count": 111,
     "metadata": {},
     "output_type": "execute_result"
    }
   ],
   "source": [
    "path_from_root_to_node(convert_arr_to_binary_tree([1, 2, 3, None, None, None, None]), 3)"
   ]
  },
  {
   "cell_type": "code",
   "execution_count": 112,
   "metadata": {},
   "outputs": [
    {
     "data": {
      "text/plain": [
       "[1]"
      ]
     },
     "execution_count": 112,
     "metadata": {},
     "output_type": "execute_result"
    }
   ],
   "source": [
    "path_from_root_to_node(convert_arr_to_binary_tree([1, 2, 3, None, None, None, None]), 1)"
   ]
  },
  {
   "cell_type": "code",
   "execution_count": 113,
   "metadata": {},
   "outputs": [
    {
     "data": {
      "text/plain": [
       "[]"
      ]
     },
     "execution_count": 113,
     "metadata": {},
     "output_type": "execute_result"
    }
   ],
   "source": [
    "path_from_root_to_node(convert_arr_to_binary_tree([1, 2, 3, None, None, None, None]), 5)"
   ]
  },
  {
   "cell_type": "code",
   "execution_count": 1,
   "metadata": {},
   "outputs": [],
   "source": [
    "# Solution\n",
    "def path_from_root_to_node(root, data):\n",
    "    \"\"\"\n",
    "    Assuming data as input to find the node\n",
    "    The solution can be easily changed to find a node instead of data\n",
    "    :param data:\n",
    "    :return:\n",
    "    \"\"\"\n",
    "    output = path_from_node_to_root(root, data)\n",
    "    return list(reversed(output))\n",
    "\n",
    "def path_from_node_to_root(root, data):\n",
    "    if root is None:\n",
    "        return None\n",
    "\n",
    "    elif root.data == data:\n",
    "        return [data]\n",
    "\n",
    "    left_answer = path_from_node_to_root(root.left, data)\n",
    "    if left_answer is not None:\n",
    "        left_answer.append(root.data)\n",
    "        return left_answer\n",
    "\n",
    "    right_answer = path_from_node_to_root(root.right, data)\n",
    "    if right_answer is not None:\n",
    "        right_answer.append(root.data)\n",
    "        return right_answer\n",
    "    return None\n"
   ]
  },
  {
   "cell_type": "code",
   "execution_count": 114,
   "metadata": {},
   "outputs": [],
   "source": [
    "def test_function(test_case):\n",
    "    arr = test_case[0]\n",
    "    data = test_case[1]\n",
    "    solution = test_case[2]\n",
    "    root = convert_arr_to_binary_tree(arr)\n",
    "    output = path_from_root_to_node(root, data)\n",
    "    print(output)\n",
    "    if output == solution:\n",
    "        print(\"Pass\")\n",
    "    else:\n",
    "        print(\"Fail\")"
   ]
  },
  {
   "cell_type": "code",
   "execution_count": 115,
   "metadata": {},
   "outputs": [
    {
     "name": "stdout",
     "output_type": "stream",
     "text": [
      "[1, 2, 5]\n",
      "Pass\n"
     ]
    }
   ],
   "source": [
    "arr = [1, 2, 3, 4, 5, None, None, None, None, None, None]\n",
    "data = 5\n",
    "solution = [1, 2, 5]\n",
    "\n",
    "test_case = [arr, data, solution]\n",
    "test_function(test_case)"
   ]
  },
  {
   "cell_type": "code",
   "execution_count": 116,
   "metadata": {},
   "outputs": [
    {
     "name": "stdout",
     "output_type": "stream",
     "text": [
      "[1, 3, 5]\n",
      "Pass\n"
     ]
    }
   ],
   "source": [
    "arr = [1, 2, 3, 4, None, 5, None, None, None, None, None]\n",
    "data = 5\n",
    "solution = [1, 3, 5]\n",
    "\n",
    "test_case = [arr, data, solution]\n",
    "test_function(test_case)"
   ]
  },
  {
   "cell_type": "code",
   "execution_count": 117,
   "metadata": {},
   "outputs": [
    {
     "name": "stdout",
     "output_type": "stream",
     "text": [
      "[1, 3, 4, 6, 10, 11]\n",
      "Pass\n"
     ]
    }
   ],
   "source": [
    "arr = [1, 2, 3, None, None, 4, 5, 6, None, 7, 8, 9, 10, None, None, None, None, None, None, 11, None, None, None]\n",
    "data = 11\n",
    "solution = [1, 3, 4, 6, 10, 11]\n",
    "\n",
    "test_case = [arr, data, solution]\n",
    "test_function(test_case)"
   ]
  },
  {
   "cell_type": "code",
   "execution_count": 118,
   "metadata": {},
   "outputs": [
    {
     "name": "stdout",
     "output_type": "stream",
     "text": [
      "[1, 3, 5, 8]\n",
      "Pass\n"
     ]
    }
   ],
   "source": [
    "arr = [1, 2, 3, None, None, 4, 5, 6, None, 7, 8, 9, 10, None, None, None, None, None, None, 11, None, None, None]\n",
    "data = 8\n",
    "solution = [1, 3, 5,8]\n",
    "\n",
    "test_case = [arr, data, solution]\n",
    "test_function(test_case)"
   ]
  },
  {
   "cell_type": "code",
   "execution_count": null,
   "metadata": {},
   "outputs": [],
   "source": []
  }
 ],
 "metadata": {
  "kernelspec": {
   "display_name": "Python 3",
   "language": "python",
   "name": "python3"
  },
  "language_info": {
   "codemirror_mode": {
    "name": "ipython",
    "version": 3
   },
   "file_extension": ".py",
   "mimetype": "text/x-python",
   "name": "python",
   "nbconvert_exporter": "python",
   "pygments_lexer": "ipython3",
   "version": "3.6.3"
  }
 },
 "nbformat": 4,
 "nbformat_minor": 2
}
