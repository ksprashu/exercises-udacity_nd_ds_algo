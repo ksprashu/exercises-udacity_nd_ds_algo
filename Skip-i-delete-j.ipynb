{
 "cells": [
  {
   "cell_type": "markdown",
   "metadata": {
    "graffitiCellId": "id_0qbquwe"
   },
   "source": [
    "### Problem Statement\n",
    "\n",
    "You are given the head of a linked list and two integers, `i` and `j`.\n",
    "You have to retain the first `i` nodes and then delete the next `j` nodes. Continue doing so until the end of the linked list. \n",
    "\n",
    "**Example:**\n",
    "* `linked-list = 1 2 3 4 5 6 7 8 9 10 11 12`\n",
    "* `i = 2`\n",
    "* `j = 3` \n",
    "* `Output = 1 2 6 7 11 12` \n"
   ]
  },
  {
   "cell_type": "code",
   "execution_count": 1,
   "metadata": {
    "graffitiCellId": "id_x5k7r8o"
   },
   "outputs": [],
   "source": [
    "# LinkedList Node class for your reference\n",
    "class Node:\n",
    "    def __init__(self, data):\n",
    "        self.data = data\n",
    "        self.next = None"
   ]
  },
  {
   "cell_type": "markdown",
   "metadata": {
    "graffitiCellId": "id_l7dimt2"
   },
   "source": [
    "### Exercise - Write the function definition here"
   ]
  },
  {
   "cell_type": "code",
   "execution_count": 2,
   "metadata": {
    "graffitiCellId": "id_cxjtaa5"
   },
   "outputs": [],
   "source": [
    "def print_list(head):\n",
    "    while head:\n",
    "        print(head.data, end=', ')\n",
    "        head = head.next"
   ]
  },
  {
   "cell_type": "code",
   "execution_count": 3,
   "metadata": {
    "graffitiCellId": "id_rjkafju"
   },
   "outputs": [],
   "source": [
    "def skip_i_delete_j(head, i, j):\n",
    "    \"\"\"\n",
    "    :param: head - head of linked list\n",
    "    :param: i - first `i` nodes that are to be skipped\n",
    "    :param: j - next `j` nodes that are to be deleted\n",
    "    return - return the updated head of the linked list\n",
    "    \"\"\"\n",
    "    node = head\n",
    "    while node:\n",
    "        for e in range(i):\n",
    "#             print(f'skipping {node.data}')\n",
    "            if not node.next: \n",
    "#                 print_list(head)\n",
    "                return head\n",
    "            prev = node\n",
    "            node = node.next\n",
    "\n",
    "        for e in range(j):\n",
    "#             print(f'deleting {node.data}')\n",
    "            if not node.next: \n",
    "                prev.next = None\n",
    "#                 print_list(head)\n",
    "                return head\n",
    "            node = node.next\n",
    "        prev.next = node\n",
    "    \n",
    "    return head"
   ]
  },
  {
   "cell_type": "markdown",
   "metadata": {
    "graffitiCellId": "id_t5i032o"
   },
   "source": [
    "### Test - Let's test your function"
   ]
  },
  {
   "cell_type": "code",
   "execution_count": 4,
   "metadata": {
    "graffitiCellId": "id_jj92agc"
   },
   "outputs": [],
   "source": [
    "# helper functions for testing purpose\n",
    "def create_linked_list(arr):\n",
    "    if len(arr)==0:\n",
    "        return None\n",
    "    head = Node(arr[0])\n",
    "    tail = head\n",
    "    for data in arr[1:]:\n",
    "        tail.next = Node(data)\n",
    "        tail = tail.next\n",
    "    return head\n",
    "\n",
    "def print_linked_list(head):\n",
    "    while head:\n",
    "        print(head.data, end=' ')\n",
    "        head = head.next\n",
    "    print()"
   ]
  },
  {
   "cell_type": "code",
   "execution_count": 5,
   "metadata": {
    "graffitiCellId": "id_zbgrh5m"
   },
   "outputs": [],
   "source": [
    "def test_function(test_case):\n",
    "    head = test_case[0]\n",
    "    i = test_case[1]\n",
    "    j = test_case[2]\n",
    "    solution = test_case[3]\n",
    "        \n",
    "    temp = skip_i_delete_j(head, i, j)\n",
    "    index = 0\n",
    "    try:\n",
    "        while temp is not None:\n",
    "            if temp.data != solution[index]:\n",
    "                print(\"Fail\")\n",
    "                return\n",
    "            index += 1\n",
    "            temp = temp.next\n",
    "        print(\"Pass\")\n",
    "    except Exception as e:\n",
    "        print(\"Fail\")"
   ]
  },
  {
   "cell_type": "code",
   "execution_count": 6,
   "metadata": {
    "graffitiCellId": "id_3ubvhf7"
   },
   "outputs": [
    {
     "output_type": "stream",
     "name": "stdout",
     "text": [
      "Pass\n"
     ]
    }
   ],
   "source": [
    "arr = [1, 2, 3, 4, 5, 6, 7, 8, 9, 10, 11, 12]\n",
    "i = 2\n",
    "j = 2\n",
    "head = create_linked_list(arr)\n",
    "solution = [1, 2, 5, 6, 9, 10]\n",
    "test_case = [head, i, j, solution]\n",
    "test_function(test_case)"
   ]
  },
  {
   "cell_type": "code",
   "execution_count": 7,
   "metadata": {
    "graffitiCellId": "id_5kf8py2"
   },
   "outputs": [
    {
     "output_type": "stream",
     "name": "stdout",
     "text": [
      "Pass\n"
     ]
    }
   ],
   "source": [
    "arr = [1, 2, 3, 4, 5, 6, 7, 8, 9, 10, 11, 12]\n",
    "i = 2\n",
    "j = 3\n",
    "head = create_linked_list(arr)\n",
    "solution = [1, 2, 6, 7, 11, 12]\n",
    "test_case = [head, i, j, solution]\n",
    "test_function(test_case)"
   ]
  },
  {
   "cell_type": "code",
   "execution_count": 8,
   "metadata": {
    "graffitiCellId": "id_c81v4ae"
   },
   "outputs": [
    {
     "output_type": "stream",
     "name": "stdout",
     "text": [
      "Pass\n"
     ]
    }
   ],
   "source": [
    "arr = [1, 2, 3, 4, 5]\n",
    "i = 2\n",
    "j = 4\n",
    "head = create_linked_list(arr)\n",
    "solution = [1, 2]\n",
    "test_case = [head, i, j, solution]\n",
    "test_function(test_case)"
   ]
  },
  {
   "cell_type": "code",
   "execution_count": 9,
   "metadata": {
    "graffitiCellId": "id_0zxoieg"
   },
   "outputs": [
    {
     "output_type": "stream",
     "name": "stdout",
     "text": [
      "Pass\n"
     ]
    }
   ],
   "source": [
    "arr = [1, 2, 3, 4, 5]\n",
    "i = 2\n",
    "j = 0\n",
    "head = create_linked_list(arr)\n",
    "solution = [1, 2, 3, 4, 5]\n",
    "test_case = [head, i, j, solution]\n",
    "test_function(test_case)"
   ]
  },
  {
   "cell_type": "code",
   "execution_count": null,
   "metadata": {
    "graffitiCellId": "id_49fovn9"
   },
   "outputs": [],
   "source": []
  }
 ],
 "metadata": {
  "graffiti": {
   "firstAuthorId": "dev",
   "id": "id_2oggofo",
   "language": "EN"
  },
  "kernelspec": {
   "name": "python3",
   "display_name": "Python 3.8.5 64-bit ('base': conda)"
  },
  "language_info": {
   "codemirror_mode": {
    "name": "ipython",
    "version": 3
   },
   "file_extension": ".py",
   "mimetype": "text/x-python",
   "name": "python",
   "nbconvert_exporter": "python",
   "pygments_lexer": "ipython3",
   "version": "3.8.5"
  },
  "interpreter": {
   "hash": "71511eaa893d3a5dcdacbd36fa71cad1ef9494e58397fba4ffb8c3d96abe4089"
  }
 },
 "nbformat": 4,
 "nbformat_minor": 2
}