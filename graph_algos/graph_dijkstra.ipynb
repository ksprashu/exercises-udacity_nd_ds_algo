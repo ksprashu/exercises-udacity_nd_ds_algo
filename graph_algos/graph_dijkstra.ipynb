{
 "cells": [
  {
   "cell_type": "markdown",
   "source": [
    "# Dijkstra's Algorithm\n",
    "In the \"Greedy Algorithms\" lesson, we implemented the **Dijkstra's Algorithm** to find the distance of each node from the given source node. In this exercise, you'll implement the same **Dijkstra's algorithm to find the length of the shortest path between a given pair of nodes,** but this time we will have a better time complexity. First, let's build the graph.\n",
    "\n",
    "## Graph Representation\n",
    "In order to run Dijkstra's Algorithm, we'll need to add distance to each edge. We'll use the `GraphEdge` class below to represent each edge between a pair of nodes. You are free to create your own implementation of an undirected graph. "
   ],
   "metadata": {
    "graffitiCellId": "id_0ojz955"
   }
  },
  {
   "cell_type": "code",
   "execution_count": 16,
   "source": [
    "# Helper Class\n",
    "class GraphEdge(object):\n",
    "    def __init__(self, destinationNode, distance):\n",
    "        self.node = destinationNode\n",
    "        self.distance = distance"
   ],
   "outputs": [],
   "metadata": {
    "graffitiCellId": "id_popacit"
   }
  },
  {
   "cell_type": "markdown",
   "source": [
    "The new graph representation should look like this:"
   ],
   "metadata": {
    "graffitiCellId": "id_ljgv5p0"
   }
  },
  {
   "cell_type": "code",
   "execution_count": 17,
   "source": [
    "# Helper Classes\n",
    "class GraphNode(object):\n",
    "    def __init__(self, val):\n",
    "        self.value = val\n",
    "        self.edges = []\n",
    "\n",
    "    def add_child(self, node, distance):\n",
    "        self.edges.append(GraphEdge(node, distance))\n",
    "\n",
    "    def remove_child(self, del_node):\n",
    "        if del_node in self.edges:\n",
    "            self.edges.remove(del_node)\n",
    "\n",
    "class Graph(object):\n",
    "    def __init__(self, node_list):\n",
    "        self.nodes = node_list\n",
    "\n",
    "    # adds an edge between node1 and node2 in both directions\n",
    "    def add_edge(self, node1, node2, distance):\n",
    "        if node1 in self.nodes and node2 in self.nodes:\n",
    "            node1.add_child(node2, distance)\n",
    "            node2.add_child(node1, distance)\n",
    "\n",
    "    def remove_edge(self, node1, node2):\n",
    "        if node1 in self.nodes and node2 in self.nodes:\n",
    "            node1.remove_child(node2)\n",
    "            node2.remove_child(node1)"
   ],
   "outputs": [],
   "metadata": {
    "graffitiCellId": "id_llarxxs"
   }
  },
  {
   "cell_type": "markdown",
   "source": [
    "### Exercise - Write the function definition here\n",
    "Using what you've learned, implement Dijkstra's Algorithm "
   ],
   "metadata": {
    "graffitiCellId": "id_v79ttrc"
   }
  },
  {
   "cell_type": "code",
   "execution_count": 48,
   "source": [
    "import math\n",
    "import queue\n",
    "\n",
    "def dijkstra(graph, start_node, end_node):\n",
    "    visited = set()\n",
    "    pq = {start_node: 0}  # start with the first node\n",
    "    distances = {start_node: 0}\n",
    "\n",
    "    # From start node, get the children in the smallest order of distance and search for end node\n",
    "#     print('starting iterations')\n",
    "    while pq:\n",
    "        current = sorted(pq, key=pq.get)[0]\n",
    "        pq.pop(current)\n",
    "#         print(f'at node {current.value}')\n",
    "\n",
    "        visited.add(current)  # this node is visited\n",
    "            \n",
    "        # queue children of current node\n",
    "        for edge in current.edges:\n",
    "            # get distance to each edge\n",
    "            calc_distance = distances[current] + edge.distance\n",
    "            if (edge.node not in distances) or (edge.node in distances and calc_distance < distances[edge.node]):\n",
    "                distances[edge.node] = calc_distance\n",
    "                pq[edge.node] = calc_distance\n",
    "            if edge.node not in visited and edge.node not in pq:\n",
    "                pq[edge.node] = edge.distance\n",
    "                \n",
    "#         print(f'visited = {[n.value for n in visited]}')\n",
    "#         print('distances = {}'.format({k.value: v for k, v in distances.items()}))\n",
    "#         print('queue = {}'.format({k.value: v for k, v in pq.items()}))\n",
    "        \n",
    "    if end_node in distances:\n",
    "        return distances[end_node]\n",
    "    else:\n",
    "        return math.inf\n",
    "\n",
    "            "
   ],
   "outputs": [],
   "metadata": {
    "graffitiCellId": "id_zx9fvl9"
   }
  },
  {
   "cell_type": "markdown",
   "source": [
    "### Test - Let's test your function"
   ],
   "metadata": {
    "graffitiCellId": "id_x2fp6ip"
   }
  },
  {
   "cell_type": "code",
   "execution_count": 49,
   "source": [
    "# Test Case 1:\n",
    "\n",
    "# Create a graph\n",
    "node_u = GraphNode('U')\n",
    "node_d = GraphNode('D')\n",
    "node_a = GraphNode('A')\n",
    "node_c = GraphNode('C')\n",
    "node_i = GraphNode('I')\n",
    "node_t = GraphNode('T')\n",
    "node_y = GraphNode('Y')\n",
    "\n",
    "graph = Graph([node_u, node_d, node_a, node_c, node_i, node_t, node_y])\n",
    "\n",
    "# add_edge() function will add an edge between node1 and node2 in both directions\n",
    "graph.add_edge(node_u, node_a, 4)\n",
    "graph.add_edge(node_u, node_c, 6)\n",
    "graph.add_edge(node_u, node_d, 3)\n",
    "graph.add_edge(node_d, node_c, 4)\n",
    "graph.add_edge(node_a, node_i, 7)\n",
    "graph.add_edge(node_c, node_i, 4)\n",
    "graph.add_edge(node_c, node_t, 5)\n",
    "graph.add_edge(node_i, node_y, 4)\n",
    "graph.add_edge(node_t, node_y, 5)\n",
    "\n",
    "# Shortest Distance from U to Y is 14\n",
    "print('Shortest Distance from {} to {} is {}'.format(node_u.value, node_y.value, dijkstra(graph, node_u, node_y)))"
   ],
   "outputs": [
    {
     "output_type": "stream",
     "name": "stdout",
     "text": [
      "Shortest Distance from U to Y is 14\n"
     ]
    }
   ],
   "metadata": {
    "graffitiCellId": "id_9zgbdrn"
   }
  },
  {
   "cell_type": "code",
   "execution_count": 50,
   "source": [
    "# Test Case 2\n",
    "node_A = GraphNode('A')\n",
    "node_B = GraphNode('B')\n",
    "node_C = GraphNode('C')\n",
    "\n",
    "graph = Graph([node_A, node_B, node_C])\n",
    "\n",
    "graph.add_edge(node_A, node_B, 5)\n",
    "graph.add_edge(node_B, node_C, 5)\n",
    "graph.add_edge(node_A, node_C, 10)\n",
    "\n",
    "# Shortest Distance from A to C is 10\n",
    "print('Shortest Distance from {} to {} is {}'.format(node_A.value, node_C.value, dijkstra(graph, node_A, node_C)))"
   ],
   "outputs": [
    {
     "output_type": "stream",
     "name": "stdout",
     "text": [
      "Shortest Distance from A to C is 10\n"
     ]
    }
   ],
   "metadata": {
    "graffitiCellId": "id_11lz0ci"
   }
  },
  {
   "cell_type": "code",
   "execution_count": 51,
   "source": [
    "# Test Case 3\n",
    "node_A = GraphNode('A')\n",
    "node_B = GraphNode('B')\n",
    "node_C = GraphNode('C')\n",
    "node_D = GraphNode('D')\n",
    "node_E = GraphNode('E')\n",
    "\n",
    "graph = Graph([node_A, node_B, node_C, node_D, node_E])\n",
    "\n",
    "graph.add_edge(node_A, node_B, 3)\n",
    "graph.add_edge(node_A, node_D, 2)\n",
    "graph.add_edge(node_B, node_D, 4)\n",
    "graph.add_edge(node_B, node_E, 6)\n",
    "graph.add_edge(node_B, node_C, 1)\n",
    "graph.add_edge(node_C, node_E, 2)\n",
    "graph.add_edge(node_E, node_D, 1)\n",
    "\n",
    "# Shortest Distance from A to C is 4\n",
    "print('Shortest Distance from {} to {} is {}'.format(node_A.value, node_C.value, dijkstra(graph, node_A, node_C)))"
   ],
   "outputs": [
    {
     "output_type": "stream",
     "name": "stdout",
     "text": [
      "Shortest Distance from A to C is 4\n"
     ]
    }
   ],
   "metadata": {
    "graffitiCellId": "id_mkizk04"
   }
  },
  {
   "cell_type": "code",
   "execution_count": null,
   "source": [],
   "outputs": [],
   "metadata": {
    "graffitiCellId": "id_ieh6yeg"
   }
  }
 ],
 "metadata": {
  "graffiti": {
   "firstAuthorId": "dev",
   "id": "id_xw4if85",
   "language": "EN"
  },
  "kernelspec": {
   "display_name": "Python 3",
   "language": "python",
   "name": "python3"
  },
  "language_info": {
   "codemirror_mode": {
    "name": "ipython",
    "version": 3
   },
   "file_extension": ".py",
   "mimetype": "text/x-python",
   "name": "python",
   "nbconvert_exporter": "python",
   "pygments_lexer": "ipython3",
   "version": "3.6.3"
  }
 },
 "nbformat": 4,
 "nbformat_minor": 2
}