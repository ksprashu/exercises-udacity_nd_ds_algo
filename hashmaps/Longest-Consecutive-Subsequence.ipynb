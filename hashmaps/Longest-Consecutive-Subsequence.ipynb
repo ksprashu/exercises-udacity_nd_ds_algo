{
 "cells": [
  {
   "cell_type": "markdown",
   "metadata": {
    "graffitiCellId": "id_vhxf50c"
   },
   "source": [
    "### Problem Statement\n",
    "\n",
    "\n",
    "Given a list of integers that contain natural numbers in random order.  Write a program to find the longest possible sub sequence of consecutive numbers in the array. Return this subsequence in sorted order. \n",
    "\n",
    "*In other words, you have to return the sorted longest (sub) list of consecutive numbers present anywhere in the given list.* \n",
    "\n",
    "For example, given the list `5, 4, 7, 10, 1, 3, 55, 2`, the output should be `1, 2, 3, 4, 5`\n",
    "\n",
    "**Note** \n",
    "1. The solution must take O(n) time. *Can you think of using a dictionary here?*\n",
    "2. If two subsequences are of equal length, return the subsequence whose index of smallest element comes first.\n",
    "\n",
    "---\n",
    "\n",
    "### The Idea:\n",
    "Every element of the given `input_list` could be a part of some subsequence. Therefore, we need a way (using a dictionary) to keep track if an element has already been visited. Also, store length of a subsequence if it is maximum. For this purpose, we have to check in **forward** direction, if the `(element+1)` is available in the given dictionary, in a \"while\" loop. Similarly, we will check in **backward** direction for `(element-1)`, in another \"while\" loop. At last, if we have the smallest element and the length of the longest subsequence, we can return a **new** list starting from \"smallest element\" to \"smallest element + length\".\n",
    "\n",
    "The steps would be:\n",
    "\n",
    "\n",
    "1. Create a dictionary, such that the elements of input_list become the \"key\", and the corresponding index become the \"value\" in the dictionary. We are creating a dictionary because the lookup time is considered to be constant in a dictionary. \n",
    "\n",
    "\n",
    "2. For each `element` in the `input_list`, first mark it as visited in the dictionary\n",
    "\n",
    " - Check in forward direction, if the `(element+1)` is available. If yes, increment the length of subsequence\n",
    " \n",
    " - Check in backward direction, if the `(element-1)` is available. If yes, increment the length of subsequence\n",
    "\n",
    " - Keep a track of length of longest subsequence visited so far. For the longest subsequence, store the smallest element (say `start_element`) and its index as well.  \n",
    "\n",
    "\n",
    "3. Return a **new** list starting from `start_element` to `start_element + length`."
   ]
  },
  {
   "cell_type": "markdown",
   "metadata": {
    "graffitiCellId": "id_q492hrd"
   },
   "source": [
    "### Exercise - Write the function definition here"
   ]
  },
  {
   "cell_type": "code",
   "execution_count": 3,
   "metadata": {
    "graffitiCellId": "id_fuxto9c"
   },
   "outputs": [
    {
     "data": {
      "text/plain": [
       "{5: 0, 2: 1, 7: 2, 1: 3, 3: 4}"
      ]
     },
     "execution_count": 3,
     "metadata": {},
     "output_type": "execute_result"
    }
   ],
   "source": [
    "a = [5, 2, 7, 1, 3]\n",
    "{n:i for i,n in enumerate(a)}"
   ]
  },
  {
   "cell_type": "code",
   "execution_count": 4,
   "metadata": {
    "graffitiCellId": "id_eaee7mz"
   },
   "outputs": [],
   "source": [
    "def longest_consecutive_subsequence(input_list):\n",
    "    # store the list in a dict\n",
    "    input_map = {n: i for i, n in enumerate(input_list)}\n",
    "    max_length = 0\n",
    "    max_start_index = len(input_list)\n",
    "    \n",
    "    for n in input_list:\n",
    "        start_index = input_map[n]\n",
    "        length = 1\n",
    "        \n",
    "        # traverse forward\n",
    "        element = n + 1\n",
    "        while element in input_map and input_map[element] >= 0:\n",
    "            # don't update start index since we are going forward\n",
    "            input_map[element] = -1\n",
    "            length += 1\n",
    "            element += 1\n",
    "            \n",
    "        # traverse back\n",
    "        element = n - 1\n",
    "        while element in input_map and input_map[element] >= 0:\n",
    "            # update start index since smaller element\n",
    "            start_index = input_map[element] \n",
    "            input_map[element] = -1\n",
    "            length += 1\n",
    "            element -= 1\n",
    "            \n",
    "        if length > max_length:\n",
    "            max_length = length\n",
    "            max_start_index = start_index\n",
    "        elif length == max_length and start_index < max_start_index:\n",
    "            max_start_index = start_index\n",
    "            \n",
    "    smallest_num = input_list[max_start_index]\n",
    "    print(f'list from [{max_start_index}] = {smallest_num} of length {max_length}')\n",
    "    return [e for e in range(smallest_num, smallest_num + max_length)]"
   ]
  },
  {
   "cell_type": "code",
   "execution_count": 5,
   "metadata": {
    "graffitiCellId": "id_xxkviju"
   },
   "outputs": [
    {
     "name": "stdout",
     "output_type": "stream",
     "text": [
      "list from [3] = 1 of length 3\n"
     ]
    },
    {
     "data": {
      "text/plain": [
       "[1, 2, 3]"
      ]
     },
     "execution_count": 5,
     "metadata": {},
     "output_type": "execute_result"
    }
   ],
   "source": [
    "longest_consecutive_subsequence([5, 2, 7, 1, 3])"
   ]
  },
  {
   "cell_type": "code",
   "execution_count": 6,
   "metadata": {
    "graffitiCellId": "id_roetoio"
   },
   "outputs": [
    {
     "name": "stdout",
     "output_type": "stream",
     "text": [
      "list from [3] = 1 of length 5\n"
     ]
    },
    {
     "data": {
      "text/plain": [
       "[1, 2, 3, 4, 5]"
      ]
     },
     "execution_count": 6,
     "metadata": {},
     "output_type": "execute_result"
    }
   ],
   "source": [
    "longest_consecutive_subsequence([5, 2, 7, 1, 3, 4])"
   ]
  },
  {
   "cell_type": "code",
   "execution_count": 7,
   "metadata": {
    "graffitiCellId": "id_y4962xw"
   },
   "outputs": [
    {
     "name": "stdout",
     "output_type": "stream",
     "text": [
      "list from [3] = 1 of length 4\n"
     ]
    },
    {
     "data": {
      "text/plain": [
       "[1, 2, 3, 4]"
      ]
     },
     "execution_count": 7,
     "metadata": {},
     "output_type": "execute_result"
    }
   ],
   "source": [
    "longest_consecutive_subsequence([6, 2, 7, 1, 3, 4])"
   ]
  },
  {
   "cell_type": "markdown",
   "metadata": {
    "graffitiCellId": "id_7w3exwo"
   },
   "source": [
    "### Test - Let's test your function"
   ]
  },
  {
   "cell_type": "code",
   "execution_count": 8,
   "metadata": {
    "graffitiCellId": "id_hlznh6q"
   },
   "outputs": [],
   "source": [
    "def test_function(test_case):\n",
    "    output = longest_consecutive_subsequence(test_case[0])\n",
    "    if output == test_case[1]:\n",
    "        print(\"Pass\")\n",
    "    else:\n",
    "        print(\"Fail\")\n",
    "    "
   ]
  },
  {
   "cell_type": "code",
   "execution_count": 9,
   "metadata": {
    "graffitiCellId": "id_z2y7gsr"
   },
   "outputs": [
    {
     "name": "stdout",
     "output_type": "stream",
     "text": [
      "list from [4] = 1 of length 5\n",
      "Pass\n"
     ]
    }
   ],
   "source": [
    "test_case_1 = [[5, 4, 7, 10, 1, 3, 55, 2], [1, 2, 3, 4, 5]]\n",
    "test_function(test_case_1)"
   ]
  },
  {
   "cell_type": "code",
   "execution_count": 10,
   "metadata": {
    "graffitiCellId": "id_a3yf5ol"
   },
   "outputs": [
    {
     "name": "stdout",
     "output_type": "stream",
     "text": [
      "list from [11] = 8 of length 5\n",
      "Pass\n"
     ]
    }
   ],
   "source": [
    "test_case_2 = [[2, 12, 9, 16, 10, 5, 3, 20, 25, 11, 1, 8, 6 ], [8, 9, 10, 11, 12]]\n",
    "test_function(test_case_2)"
   ]
  },
  {
   "cell_type": "code",
   "execution_count": 11,
   "metadata": {
    "graffitiCellId": "id_u5rs0q7"
   },
   "outputs": [
    {
     "name": "stdout",
     "output_type": "stream",
     "text": [
      "list from [0] = 0 of length 5\n",
      "Pass\n"
     ]
    }
   ],
   "source": [
    "test_case_3 = [[0, 1, 2, 3, 4], [0, 1, 2, 3, 4]]\n",
    "test_function(test_case_3)"
   ]
  },
  {
   "cell_type": "markdown",
   "metadata": {
    "graffitiCellId": "id_et1ek54"
   },
   "source": [
    "<span class=\"graffiti-highlight graffiti-id_et1ek54-id_r15x1vg\"><i></i><button>Show Solution</button></span>"
   ]
  }
 ],
 "metadata": {
  "graffiti": {
   "firstAuthorId": "10694620118",
   "id": "id_alotytm",
   "language": "EN"
  },
  "kernelspec": {
   "display_name": "Python 3",
   "language": "python",
   "name": "python3"
  },
  "language_info": {
   "codemirror_mode": {
    "name": "ipython",
    "version": 3
   },
   "file_extension": ".py",
   "mimetype": "text/x-python",
   "name": "python",
   "nbconvert_exporter": "python",
   "pygments_lexer": "ipython3",
   "version": "3.6.3"
  }
 },
 "nbformat": 4,
 "nbformat_minor": 2
}
