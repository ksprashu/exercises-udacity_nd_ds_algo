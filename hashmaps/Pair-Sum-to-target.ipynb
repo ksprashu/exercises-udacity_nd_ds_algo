{
 "cells": [
  {
   "cell_type": "markdown",
   "metadata": {
    "graffitiCellId": "id_486zult"
   },
   "source": [
    "### Problem statement\n",
    "\n",
    "Given an `input_list` and a `target`, return the pair of indices in the list that holds the values which sum to the `target`. For example, \n",
    "\n",
    "`input_list = [1, 5, 9, 7]` and `target = 8`, the answer would be `[0, 3]` \n",
    "\n",
    "**Note**<br>\n",
    "1. The best solution takes O(n) time. *This means that you cannot traverse the given list more than once.* **Hint - Think of an additional data structure that you should use here.** \n",
    "2. You can assume that the list does not have any duplicates."
   ]
  },
  {
   "cell_type": "code",
   "execution_count": 1,
   "metadata": {
    "graffitiCellId": "id_ay19zkb"
   },
   "outputs": [],
   "source": [
    "# Assumption, there will only be a single pair -> eg: 7 = 6+1 or 5+2\n",
    "# Given a number, check if target - number exists in the list\n",
    "# create a map of number -> index in original list"
   ]
  },
  {
   "cell_type": "code",
   "execution_count": 33,
   "metadata": {
    "graffitiCellId": "id_mmjeipl"
   },
   "outputs": [
    {
     "data": {
      "text/plain": [
       "{-1: 10}"
      ]
     },
     "execution_count": 33,
     "metadata": {},
     "output_type": "execute_result"
    }
   ],
   "source": [
    "# lists can't hold negative values; confirming that dicts can\n",
    "a = {}\n",
    "a[-1] = 10\n",
    "a"
   ]
  },
  {
   "cell_type": "code",
   "execution_count": 42,
   "metadata": {
    "graffitiCellId": "id_fq96qkf"
   },
   "outputs": [],
   "source": [
    "def pair_sum_to_target(input_list, target):\n",
    "    # TODO: Write pair sum to target function\n",
    "    input_map = {}\n",
    "    for i, n in enumerate(input_list):\n",
    "        # look for the other number that makes up the sum\n",
    "        target_diff = target - n\n",
    "        # if number exists, then we are done; return\n",
    "        if target_diff in input_map:\n",
    "            return [input_map[target_diff], i]\n",
    "        # add the number into list and continue\n",
    "        input_map[n] = i        \n",
    "                          \n",
    "    return -1"
   ]
  },
  {
   "cell_type": "code",
   "execution_count": 43,
   "metadata": {
    "graffitiCellId": "id_gxkqfwu"
   },
   "outputs": [],
   "source": [
    "def test_function(test_case):\n",
    "    output = pair_sum_to_target(test_case[0], test_case[1])\n",
    "    print(output)\n",
    "    if sorted(output) == test_case[2]:\n",
    "        print(\"Pass\")\n",
    "    else:\n",
    "        print(\"Fail\")"
   ]
  },
  {
   "cell_type": "code",
   "execution_count": 44,
   "metadata": {
    "graffitiCellId": "id_fqo2ly7"
   },
   "outputs": [
    {
     "name": "stdout",
     "output_type": "stream",
     "text": [
      "[0, 3]\n",
      "Pass\n"
     ]
    }
   ],
   "source": [
    "test_case_1 = [[1, 5, 9, 7], 8, [0, 3]]\n",
    "test_function(test_case_1)"
   ]
  },
  {
   "cell_type": "code",
   "execution_count": 45,
   "metadata": {
    "graffitiCellId": "id_38rw3d3"
   },
   "outputs": [
    {
     "name": "stdout",
     "output_type": "stream",
     "text": [
      "[0, 7]\n",
      "Pass\n"
     ]
    }
   ],
   "source": [
    "test_case_2 = [[10, 5, 9, 8, 12, 1, 16, 6], 16, [0, 7]]\n",
    "test_function(test_case_2)"
   ]
  },
  {
   "cell_type": "code",
   "execution_count": 46,
   "metadata": {
    "graffitiCellId": "id_lrl4kfz"
   },
   "outputs": [
    {
     "name": "stdout",
     "output_type": "stream",
     "text": [
      "[0, 4]\n",
      "Pass\n"
     ]
    }
   ],
   "source": [
    "test_case_3 = [[0, 1, 2, 3, -4], -4, [0, 4]]\n",
    "test_function(test_case_3)"
   ]
  },
  {
   "cell_type": "markdown",
   "metadata": {
    "graffitiCellId": "id_snm0ke6"
   },
   "source": [
    "<span class=\"graffiti-highlight graffiti-id_snm0ke6-id_tv0tye7\"><i></i><button>Show Solution</button></span>"
   ]
  }
 ],
 "metadata": {
  "graffiti": {
   "firstAuthorId": "10694620118",
   "id": "id_vvgwoq6",
   "language": "EN"
  },
  "kernelspec": {
   "display_name": "Python 3",
   "language": "python",
   "name": "python3"
  },
  "language_info": {
   "codemirror_mode": {
    "name": "ipython",
    "version": 3
   },
   "file_extension": ".py",
   "mimetype": "text/x-python",
   "name": "python",
   "nbconvert_exporter": "python",
   "pygments_lexer": "ipython3",
   "version": "3.6.3"
  }
 },
 "nbformat": 4,
 "nbformat_minor": 2
}
