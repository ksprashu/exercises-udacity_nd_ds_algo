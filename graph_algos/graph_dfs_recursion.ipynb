{
 "cells": [
  {
   "cell_type": "markdown",
   "source": [
    "# Graph Depth-First Search With Recursion"
   ],
   "metadata": {
    "graffitiCellId": "id_qfx0fir"
   }
  },
  {
   "cell_type": "markdown",
   "source": [
    "We've done depth-first search previously using an iterative approach (i.e., using a loop). In this notebook, we'll show how to implement a recursive soluton.\n",
    "\n",
    "The basic idea is to select a node and explore all the possible paths from that node, and to apply this recursively to each node we are exploring.\n",
    "\n",
    "You can see some helpful illustrations with various combinations here: https://www.cs.usfca.edu/~galles/visualization/DFS.html"
   ],
   "metadata": {
    "graffitiCellId": "id_dccwaz9"
   }
  },
  {
   "cell_type": "code",
   "execution_count": 1,
   "source": [
    "# For this exercise we will be using an Adjacency List representation to store the graph.\n",
    "\n",
    "# Class Node representation.\n",
    "class Node:\n",
    "    def __init__(self,val):\n",
    "        self.value = val\n",
    "        self.children = []\n",
    "        \n",
    "    def add_child(self,new_node):\n",
    "        self.children.append(new_node)\n",
    "    \n",
    "    def remove_child(self,del_node):\n",
    "        if del_node in self.children:\n",
    "            self.children.remove(del_node)\n",
    "\n",
    "class Graph():\n",
    "    def __init__(self,node_list):\n",
    "        self.nodes = node_list\n",
    "        \n",
    "    def add_edge(self,node1,node2):\n",
    "        if(node1 in self.nodes and node2 in self.nodes):\n",
    "            node1.add_child(node2)\n",
    "            node2.add_child(node1)\n",
    "            \n",
    "    def remove_edge(self,node1,node2):\n",
    "        if(node1 in self.nodes and node2 in self.nodes):\n",
    "            node1.remove_child(node2)\n",
    "            node2.remove_child(node1)"
   ],
   "outputs": [],
   "metadata": {
    "graffitiCellId": "id_g8yswc8"
   }
  },
  {
   "cell_type": "markdown",
   "source": [
    "### Initializing Graph with an example"
   ],
   "metadata": {
    "graffitiCellId": "id_8yd5g3t"
   }
  },
  {
   "cell_type": "markdown",
   "source": [
    "![title](assets/graphs.jpg)\n",
    "Consider the above graph structure. The following code initializes all the edges according to the above structure."
   ],
   "metadata": {
    "graffitiCellId": "id_gcu50h2"
   }
  },
  {
   "cell_type": "code",
   "execution_count": 2,
   "source": [
    "# Creating a graph as above.\n",
    "nodeG = Node('G')\n",
    "nodeR = Node('R')\n",
    "nodeA = Node('A')\n",
    "nodeP = Node('P')\n",
    "nodeH = Node('H')\n",
    "nodeS = Node('S')\n",
    "\n",
    "graph1 = Graph([nodeS,nodeH,nodeG,nodeP,nodeR,nodeA] ) \n",
    "\n",
    "graph1.add_edge(nodeG,nodeR)\n",
    "graph1.add_edge(nodeA,nodeR)\n",
    "graph1.add_edge(nodeA,nodeG)\n",
    "graph1.add_edge(nodeR,nodeP)\n",
    "graph1.add_edge(nodeH,nodeG)\n",
    "graph1.add_edge(nodeH,nodeP)\n",
    "graph1.add_edge(nodeS,nodeR)"
   ],
   "outputs": [],
   "metadata": {
    "graffitiCellId": "id_l75ft9n"
   }
  },
  {
   "cell_type": "code",
   "execution_count": 3,
   "source": [
    "# To verify that the graph is created accurately.\n",
    "# Let's just print all the parent nodes and child nodes.\n",
    "for each in graph1.nodes:\n",
    "    print('parent node = ',each.value,end='\\nchildren\\n')\n",
    "    for each in each.children:\n",
    "        print(each.value,end=' ')\n",
    "    print('\\n')"
   ],
   "outputs": [
    {
     "output_type": "stream",
     "name": "stdout",
     "text": [
      "parent node =  S\n",
      "children\n",
      "R \n",
      "\n",
      "parent node =  H\n",
      "children\n",
      "G P \n",
      "\n",
      "parent node =  G\n",
      "children\n",
      "R A H \n",
      "\n",
      "parent node =  P\n",
      "children\n",
      "R H \n",
      "\n",
      "parent node =  R\n",
      "children\n",
      "G A P S \n",
      "\n",
      "parent node =  A\n",
      "children\n",
      "R G \n",
      "\n"
     ]
    }
   ],
   "metadata": {
    "graffitiCellId": "id_j63zvsw"
   }
  },
  {
   "cell_type": "markdown",
   "source": [
    "### Sample input and output \n",
    "\n",
    "The output would vary based on the implementation of your algorithm, the order in which children are stored within the adjacency list."
   ],
   "metadata": {
    "graffitiCellId": "id_bweutr7"
   }
  },
  {
   "cell_type": "markdown",
   "source": [
    "### DFS using recursion\n",
    "Now that we have our example graph initialized, we are ready to do the actual depth-first search. Here's what that looks like:"
   ],
   "metadata": {
    "graffitiCellId": "id_mqzklsq"
   }
  },
  {
   "cell_type": "code",
   "execution_count": 23,
   "source": [
    "'''TO DO'''\n",
    "def dfs_recursion_start(start_node, search_value):\n",
    "    visited = set()  # lookup\n",
    "    return _dfs(start_node, search_value, visited)\n",
    "\n",
    "def _dfs(node, value, visited):\n",
    "    # base condition if value is found\n",
    "    if node.value == value:\n",
    "        found = True\n",
    "        return node\n",
    "    \n",
    "    visited.add(node)\n",
    "    found = False\n",
    "    result = None\n",
    "    \n",
    "    for child in node.children:\n",
    "        if child in visited:\n",
    "            continue\n",
    "        \n",
    "        result = _dfs(child, value, visited)\n",
    "        \n",
    "        if found:\n",
    "            break\n",
    "            \n",
    "    return result\n",
    "        "
   ],
   "outputs": [],
   "metadata": {
    "graffitiCellId": "id_pyqg7fg"
   }
  },
  {
   "cell_type": "code",
   "execution_count": 24,
   "source": [
    "assert nodeA == dfs_recursion_start(nodeG, 'A')\n",
    "assert nodeA == dfs_recursion_start(nodeS, 'A')\n",
    "assert nodeS == dfs_recursion_start(nodeP, 'S')\n",
    "assert nodeR == dfs_recursion_start(nodeH, 'R')"
   ],
   "outputs": [],
   "metadata": {
    "graffitiCellId": "id_1hnatw7"
   }
  },
  {
   "cell_type": "code",
   "execution_count": null,
   "source": [],
   "outputs": [],
   "metadata": {
    "graffitiCellId": "id_swttfnf"
   }
  }
 ],
 "metadata": {
  "graffiti": {
   "firstAuthorId": "10694620118",
   "id": "id_hv4tail",
   "language": "EN"
  },
  "kernelspec": {
   "display_name": "Python 3",
   "language": "python",
   "name": "python3"
  },
  "language_info": {
   "codemirror_mode": {
    "name": "ipython",
    "version": 3
   },
   "file_extension": ".py",
   "mimetype": "text/x-python",
   "name": "python",
   "nbconvert_exporter": "python",
   "pygments_lexer": "ipython3",
   "version": "3.6.3"
  }
 },
 "nbformat": 4,
 "nbformat_minor": 2
}