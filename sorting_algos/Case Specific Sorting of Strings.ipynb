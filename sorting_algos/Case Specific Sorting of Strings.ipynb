{
 "cells": [
  {
   "cell_type": "markdown",
   "metadata": {
    "graffitiCellId": "id_7nj9dyd"
   },
   "source": [
    "# Case Specific Sorting of Strings\n",
    "\n",
    "## Problem statement\n",
    "Given a string consisting of uppercase and lowercase ASCII characters, write a function, `case_sort`, that sorts uppercase and lowercase letters separately, such that if the $i$th place in the original string had an uppercase character then it should not have a lowercase character after being sorted and vice versa.\n",
    "\n",
    "For example:  \n",
    "**Input:** fedRTSersUXJ  \n",
    "**Output:** deeJRSfrsTUX"
   ]
  },
  {
   "cell_type": "code",
   "execution_count": 13,
   "metadata": {
    "graffitiCellId": "id_5qatal1"
   },
   "outputs": [],
   "source": [
    "def merge(left, right):\n",
    "    \"\"\"Merge the two strings.\n",
    "    \"\"\"\n",
    "    left_ix = 0\n",
    "    right_ix = 0\n",
    "    new_string = ''\n",
    "    while left_ix < len(left) or right_ix < len(right):\n",
    "        if left_ix < len(left) and right_ix < len(right):\n",
    "            if left[left_ix] <= right[right_ix]:\n",
    "                new_string += left[left_ix]\n",
    "                left_ix += 1\n",
    "            else:\n",
    "                new_string += right[right_ix]\n",
    "                right_ix += 1\n",
    "        else:\n",
    "            new_string += left[left_ix:]\n",
    "            new_string += right[right_ix:]\n",
    "            break\n",
    "\n",
    "    return new_string\n",
    "    \n",
    "def case_merge(lower, upper, original):\n",
    "    \"\"\"Build new string according to case order of original string.\n",
    "    \"\"\"\n",
    "    lower_ix = 0\n",
    "    upper_ix = 0\n",
    "    new_string = ''\n",
    "    for c in original:\n",
    "        if c.isupper():\n",
    "            new_string += upper[upper_ix]\n",
    "            upper_ix += 1\n",
    "        else:\n",
    "            new_string += lower[lower_ix]\n",
    "            lower_ix += 1\n",
    "    \n",
    "    return new_string"
   ]
  },
  {
   "cell_type": "code",
   "execution_count": 14,
   "metadata": {
    "graffitiCellId": "id_pzuowvq"
   },
   "outputs": [
    {
     "name": "stdout",
     "output_type": "stream",
     "text": [
      "abcxyz\n",
      "abcxyz\n",
      "abxy\n",
      "abxy\n",
      "ax\n",
      "by\n"
     ]
    }
   ],
   "source": [
    "print(merge('abc', 'xyz'))  # abcxyz\n",
    "print(merge('xyz', 'abc'))  # abcxyz\n",
    "print(merge('ax', 'by'))  # abxy\n",
    "print(merge('ay', 'bx'))  # abxy\n",
    "print(merge('ax', ''))  # ax\n",
    "print(merge('', 'by'))  # by"
   ]
  },
  {
   "cell_type": "code",
   "execution_count": 16,
   "metadata": {
    "graffitiCellId": "id_kl0kxrh"
   },
   "outputs": [
    {
     "name": "stdout",
     "output_type": "stream",
     "text": [
      "bb\n",
      "BB\n",
      "bB\n",
      "Bb\n",
      "aXbYZc\n"
     ]
    }
   ],
   "source": [
    "print(case_merge('bb', '', 'aa'))  # bb\n",
    "print(case_merge('', 'BB', 'AA'))  # BB\n",
    "print(case_merge('b', 'B', 'aA'))  # bB\n",
    "print(case_merge('b', 'B', 'Aa'))  # Bb\n",
    "print(case_merge('abc', 'XYZ', 'aAaAAa'))  # aXbYZc"
   ]
  },
  {
   "cell_type": "code",
   "execution_count": 24,
   "metadata": {
    "graffitiCellId": "id_jmqckie"
   },
   "outputs": [],
   "source": [
    "def case_sort(string):\n",
    "    \"\"\"\n",
    "    Here are some pointers on how the function should work:\n",
    "    1. Sort the string\n",
    "    2. Create an empty output list\n",
    "    3. Iterate over original string\n",
    "        if the character is lower-case:\n",
    "            pick lower-case character from sorted string to place in output list\n",
    "        else:\n",
    "            pick upper-case character from sorted string to place in output list\n",
    "    \n",
    "    Note: You can use Python's inbuilt ord() function to find the ASCII value of a character\n",
    "    \"\"\"\n",
    "    \n",
    "    \"\"\"\n",
    "    Using the following approach:\n",
    "    Divide into upper and lower case strings.\n",
    "    Merge sort the two separately.\n",
    "    Build new string based on the case of original string\n",
    "    \"\"\"\n",
    "    \n",
    "    lower = ''\n",
    "    upper = ''\n",
    "    for c in string:\n",
    "        if c.isupper():\n",
    "            upper += c\n",
    "        else:\n",
    "            lower += c\n",
    "    \n",
    "    lower = merge_sort(lower)\n",
    "    upper = merge_sort(upper)\n",
    "    return case_merge(lower, upper, string)"
   ]
  },
  {
   "cell_type": "code",
   "execution_count": 18,
   "metadata": {
    "graffitiCellId": "id_mgi2cki"
   },
   "outputs": [],
   "source": [
    "def merge_sort(string):\n",
    "    \"\"\"Merge sort the provided string.\n",
    "    \"\"\"\n",
    "    \n",
    "    if len(string) <= 1:\n",
    "        return string\n",
    "    \n",
    "    mid = len(string) // 2\n",
    "    return merge(merge_sort(string[:mid]), merge_sort(string[mid:]))"
   ]
  },
  {
   "cell_type": "code",
   "execution_count": 19,
   "metadata": {
    "graffitiCellId": "id_2ibczpv"
   },
   "outputs": [
    {
     "name": "stdout",
     "output_type": "stream",
     "text": [
      "abc\n",
      "abc\n",
      "abc\n",
      "a\n",
      "abcd\n"
     ]
    }
   ],
   "source": [
    "print(merge_sort('abc'))  # abc\n",
    "print(merge_sort('acb'))  # abc\n",
    "print(merge_sort('cba'))  # abc\n",
    "print(merge_sort('a'))  # a\n",
    "print(merge_sort('badc'))  # abcd"
   ]
  },
  {
   "cell_type": "code",
   "execution_count": 20,
   "metadata": {
    "graffitiCellId": "id_ww8s9ic"
   },
   "outputs": [
    {
     "name": "stdout",
     "output_type": "stream",
     "text": [
      "ab\n",
      "Ba\n",
      "aXbY\n",
      "aXbY\n"
     ]
    }
   ],
   "source": [
    "print(case_sort('ba'))  # ab\n",
    "print(case_sort('Ba'))  # Ba\n",
    "print(case_sort('aXbY'))  # aXbY\n",
    "print(case_sort('bYaX'))  # aXbY"
   ]
  },
  {
   "cell_type": "code",
   "execution_count": 21,
   "metadata": {
    "graffitiCellId": "id_z40d3cc"
   },
   "outputs": [],
   "source": [
    "def test_function(test_case):\n",
    "    test_string = test_case[0]\n",
    "    solution = test_case[1]\n",
    "    \n",
    "    if case_sort(test_string) == solution:\n",
    "        print(\"Pass\")\n",
    "    else:\n",
    "        print(\"False\")"
   ]
  },
  {
   "cell_type": "code",
   "execution_count": 22,
   "metadata": {
    "graffitiCellId": "id_gxkbvwz"
   },
   "outputs": [
    {
     "name": "stdout",
     "output_type": "stream",
     "text": [
      "Pass\n"
     ]
    }
   ],
   "source": [
    "test_string = 'fedRTSersUXJ'\n",
    "solution = \"deeJRSfrsTUX\"\n",
    "test_case = [test_string, solution]\n",
    "test_function(test_case)"
   ]
  },
  {
   "cell_type": "code",
   "execution_count": 23,
   "metadata": {
    "graffitiCellId": "id_uduu26h"
   },
   "outputs": [
    {
     "name": "stdout",
     "output_type": "stream",
     "text": [
      "Pass\n"
     ]
    }
   ],
   "source": [
    "test_string = \"defRTSersUXI\"\n",
    "solution = \"deeIRSfrsTUX\"\n",
    "test_case = [test_string, solution]\n",
    "test_function(test_case)"
   ]
  },
  {
   "cell_type": "code",
   "execution_count": null,
   "metadata": {
    "graffitiCellId": "id_5272684"
   },
   "outputs": [],
   "source": []
  }
 ],
 "metadata": {
  "graffiti": {
   "firstAuthorId": "dev",
   "id": "id_9ub8eru",
   "language": "EN"
  },
  "kernelspec": {
   "display_name": "Python 3",
   "language": "python",
   "name": "python3"
  },
  "language_info": {
   "codemirror_mode": {
    "name": "ipython",
    "version": 3
   },
   "file_extension": ".py",
   "mimetype": "text/x-python",
   "name": "python",
   "nbconvert_exporter": "python",
   "pygments_lexer": "ipython3",
   "version": "3.6.3"
  }
 },
 "nbformat": 4,
 "nbformat_minor": 2
}