{
 "cells": [
  {
   "cell_type": "markdown",
   "metadata": {
    "graffitiCellId": "id_v5swjqy"
   },
   "source": [
    "### Problem Statement\n",
    "\n",
    "Suppose there is a staircase that you can climb in either 1 step, 2 steps, or 3 steps. In how many possible ways can you climb the staircase if the staircase has `n` steps? Write a recursive function to solve the problem.\n",
    "\n",
    "**Example:**\n",
    "\n",
    "* `n == 1` then `answer = 1`\n",
    "\n",
    "* `n == 3` then `answer = 4`<br>\n",
    "   The output is `4` because there are four ways we can climb the staircase:\n",
    "    - 1 step +  1 step + 1 step\n",
    "    - 1 step + 2 steps \n",
    "    - 2 steps + 1 step\n",
    "    - 3 steps\n",
    "* `n == 5` then `answer = 13`\n"
   ]
  },
  {
   "cell_type": "markdown",
   "metadata": {
    "graffitiCellId": "id_74s7rzj"
   },
   "source": [
    "### Exercise - Write a recursive function to solve this problem"
   ]
  },
  {
   "cell_type": "code",
   "execution_count": 11,
   "metadata": {
    "graffitiCellId": "id_yv3ymjf"
   },
   "outputs": [],
   "source": [
    "\"\"\"\n",
    "param: n - number of steps in the staircase\n",
    "Return number of possible ways in which you can climb the staircase\n",
    "\"\"\"\n",
    "def staircase(n):\n",
    "    '''Hint'''\n",
    "    # Base Case - What holds true for minimum steps possible i.e., n == 0, 1, 2 or 3? Return the number of ways the child can climb n steps.\n",
    "    if n == 0:\n",
    "        return 0 # we are done\n",
    "    elif n == 1:\n",
    "        return 1 # 1 step\n",
    "    elif n == 2:\n",
    "        return 2 # 1 step + 1 step, or 2 steps\n",
    "    elif n == 3:\n",
    "        return 4 # 1 step + 2 step, 2 step + 1 step, 1 step x 3, 3 steps\n",
    "    \n",
    "    # Recursive Step - Split the solution into base case if n > 3.\n",
    "    # I can climb 1, 2 or 3 steps to start with, then recurse for each cas\n",
    "    return staircase(n-1) + staircase(n-2) + staircase(n-3)"
   ]
  },
  {
   "cell_type": "code",
   "execution_count": 12,
   "metadata": {
    "graffitiCellId": "id_nbbii1b"
   },
   "outputs": [
    {
     "name": "stdout",
     "output_type": "stream",
     "text": [
      "0\n",
      "1\n",
      "2\n",
      "4\n",
      "7\n",
      "13\n"
     ]
    }
   ],
   "source": [
    "print(staircase(0))\n",
    "print(staircase(1))\n",
    "print(staircase(2))\n",
    "print(staircase(3))\n",
    "print(staircase(4))\n",
    "print(staircase(5))"
   ]
  },
  {
   "cell_type": "code",
   "execution_count": 13,
   "metadata": {
    "graffitiCellId": "id_qnr80ry"
   },
   "outputs": [],
   "source": [
    "def test_function(test_case):\n",
    "    n = test_case[0]\n",
    "    solution = test_case[1]\n",
    "    output = staircase(n)\n",
    "    if output == solution:\n",
    "        print(\"Pass\")\n",
    "    else:\n",
    "        print(\"Fail\")"
   ]
  },
  {
   "cell_type": "code",
   "execution_count": 14,
   "metadata": {
    "graffitiCellId": "id_6g7yxbj"
   },
   "outputs": [
    {
     "name": "stdout",
     "output_type": "stream",
     "text": [
      "Pass\n"
     ]
    }
   ],
   "source": [
    "n = 3\n",
    "solution = 4\n",
    "test_case = [n, solution]\n",
    "test_function(test_case)"
   ]
  },
  {
   "cell_type": "code",
   "execution_count": 15,
   "metadata": {
    "graffitiCellId": "id_1q0pz7y"
   },
   "outputs": [
    {
     "name": "stdout",
     "output_type": "stream",
     "text": [
      "Pass\n"
     ]
    }
   ],
   "source": [
    "n = 4\n",
    "solution = 7\n",
    "test_case = [n, solution]\n",
    "test_function(test_case)"
   ]
  },
  {
   "cell_type": "code",
   "execution_count": 16,
   "metadata": {
    "graffitiCellId": "id_p3uxb7h"
   },
   "outputs": [
    {
     "name": "stdout",
     "output_type": "stream",
     "text": [
      "Pass\n"
     ]
    }
   ],
   "source": [
    "n = 7\n",
    "solution = 44\n",
    "test_case = [n, solution]\n",
    "test_function(test_case)"
   ]
  },
  {
   "cell_type": "code",
   "execution_count": null,
   "metadata": {
    "graffitiCellId": "id_z44sga8"
   },
   "outputs": [],
   "source": []
  }
 ],
 "metadata": {
  "graffiti": {
   "firstAuthorId": "dev",
   "id": "id_qnn6fxn",
   "language": "EN"
  },
  "kernelspec": {
   "display_name": "Python 3",
   "language": "python",
   "name": "python3"
  },
  "language_info": {
   "codemirror_mode": {
    "name": "ipython",
    "version": 3
   },
   "file_extension": ".py",
   "mimetype": "text/x-python",
   "name": "python",
   "nbconvert_exporter": "python",
   "pygments_lexer": "ipython3",
   "version": "3.6.3"
  }
 },
 "nbformat": 4,
 "nbformat_minor": 2
}