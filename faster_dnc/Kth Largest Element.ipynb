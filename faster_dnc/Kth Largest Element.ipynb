{
 "cells": [
  {
   "cell_type": "markdown",
   "metadata": {
    "graffitiCellId": "id_lyoik70"
   },
   "source": [
    "### Problem Statement\n",
    "Given an unsorted array `Arr` with `n` positive integers. Find the $k^{th}$ smallest element in the given array, using Divide & Conquer approach. \n",
    "\n",
    "**Input**: Unsorted array `Arr` and an integer `k` where $1 \\leq k \\leq n$ <br>\n",
    "**Output**: The $k^{th}$ smallest element of array `Arr`<br>\n",
    "\n",
    "\n",
    "**Example 1**<br>\n",
    "Arr = `[6, 80, 36, 8, 23, 7, 10, 12, 42, 99]`<br>\n",
    "k = `10`<br>\n",
    "Output = `99`<br>\n",
    "\n",
    "**Example 2**<br>\n",
    "Arr = `[6, 80, 36, 8, 23, 7, 10, 12, 42, 99]`<br>\n",
    "k = `5`<br>\n",
    "Output = `12`<br>\n",
    "\n",
    "---\n",
    "\n",
    "### The Pseudocode - `fastSelect(Arr, k)`\n",
    "1. Break `Arr` into $\\frac{n}{5}$ (actually it is $\\left \\lceil{\\frac{n}{5}} \\right \\rceil $) groups, namely $G_1, G_2, G_3...G_{\\frac{n}{5}}$\n",
    "\n",
    "\n",
    "2. For each group $G_i, \\forall 1 \\leq i \\leq \\frac{n}{5} $, do the following:\n",
    " - Sort the group $G_i$\n",
    " - Find the middle position i.e., median $m_i$ of group $G_i$\n",
    " - Add $m_i$ to the set of medians **$S$**\n",
    "\n",
    "\n",
    "3. The set of medians **$S$** will become as $S = \\{m_1, m_2, m_3...m_{\\frac{n}{5}}\\}$. The \"good\" `pivot` element will be the median of the set **$S$**. We can find it as $pivot = fastSelect(S, \\frac{n}{10})$. \n",
    "\n",
    "\n",
    "4. Partition the original `Arr` into three sub-arrays - `Arr_Less_P`, `Arr_Equal_P`, and `Arr_More_P` having elements less than `pivot`, equal to `pivot`, and bigger than `pivot` **respectively**.\n",
    "\n",
    "\n",
    "5. Recurse based on the **sizes of the three sub-arrays**, we will either recursively search in the small set, or the big set, as defined in the following conditions:\n",
    " - If `k <= length(Arr_Less_P)`, then return `fastSelect(Arr_Less_P, k)`. This means that if the size of the \"small\" sub-array is at least as large as `k`, then we know that our desired $k^{th}$ smallest element lies in this sub-array. Therefore recursively call the same function on the \"small\" sub-array. <br><br>\n",
    " \n",
    " - If `k > (length(Arr_Less_P) + length(Arr_Equal_P))`, then return `fastSelect(Arr_More_P, (k - length(Arr_Less_P) - length(Arr_Equal_P)))`. This means that if `k` is more than the size of \"small\" and \"equal\" sub-arrays, then our desired $k^{th}$ smallest element lies in \"bigger\" sub-array. <br><br>\n",
    " \n",
    " - Return `pivot` otherwise. This means that if the above two cases do not hold true, then we know that $k^{th}$ smallest element lies in the \"equal\" sub-array.\n",
    " \n",
    "---\n",
    "### Exercise - Write the function definition here"
   ]
  },
  {
   "cell_type": "code",
   "execution_count": 1,
   "metadata": {
    "graffitiCellId": "id_zq7nri7"
   },
   "outputs": [
    {
     "data": {
      "text/plain": [
       "[0, 1, 2, 3, 4, 5, 6, 7, 8, 9]"
      ]
     },
     "execution_count": 1,
     "metadata": {},
     "output_type": "execute_result"
    }
   ],
   "source": [
    "[i for i in range(0, 10)]"
   ]
  },
  {
   "cell_type": "code",
   "execution_count": 2,
   "metadata": {
    "graffitiCellId": "id_kdmzefo"
   },
   "outputs": [
    {
     "data": {
      "text/plain": [
       "11"
      ]
     },
     "execution_count": 2,
     "metadata": {},
     "output_type": "execute_result"
    }
   ],
   "source": [
    "import math\n",
    "math.ceil(10.1)"
   ]
  },
  {
   "cell_type": "code",
   "execution_count": 20,
   "metadata": {
    "graffitiCellId": "id_67f82ik"
   },
   "outputs": [],
   "source": [
    "import math\n",
    "\n",
    "def getGroups(Arr, size):\n",
    "    groups = []\n",
    "    for i in range(0, len(Arr), size):\n",
    "        end = min(i + size, len(Arr))\n",
    "        groups.append(Arr[i:end])\n",
    "        \n",
    "    return groups\n",
    "\n",
    "def splitPivot(Arr, P):\n",
    "    lesser = []\n",
    "    greater = []\n",
    "    equal = []\n",
    "    for n in Arr:\n",
    "        if n < P:\n",
    "            lesser.append(n)\n",
    "        elif n > P:\n",
    "            greater.append(n)\n",
    "        else:\n",
    "            equal.append(n)\n",
    "    \n",
    "    return lesser, equal, greater\n",
    "\n",
    "def getMedianOf5(Arr):\n",
    "    Arr.sort()\n",
    "    return Arr[len(Arr) // 2]\n",
    "\n",
    "def getMediansOfGroups(groups):\n",
    "    medians = []\n",
    "    for g in groups:\n",
    "        medians.append(getMedianOf5(g))\n",
    "    return medians\n",
    "\n",
    "def fastSelect(Arr, k):\n",
    "    \"\"\"Select the median using Divide and Conquor.\n",
    "    \"\"\"\n",
    "    assert k > 0 or k < len(Arr), f'k should be between 1 and {len(Arr)}'\n",
    "    \n",
    "    if len(Arr) <= 5:\n",
    "        Arr.sort()\n",
    "        return Arr[k-1]\n",
    "    \n",
    "    # Divide into groups of 5 to get median of medians (pivot)\n",
    "    groups = getGroups(Arr, 5)\n",
    "    medians = getMediansOfGroups(groups)\n",
    "    if len(medians) <= 5:\n",
    "        P = getMedianOf5(Arr)\n",
    "    else:\n",
    "        P = fastSelect(medians, len(Arr) // 10)\n",
    "    \n",
    "    # split the array by pivot and look for kth element\n",
    "    lesser, equal, greater = splitPivot(Arr, P)\n",
    "    if k <= len(lesser):\n",
    "        return fastSelect(lesser, k)\n",
    "    elif k > len(lesser) + len(equal):\n",
    "        return fastSelect(greater, k - len(lesser) - len(equal))\n",
    "    else:\n",
    "        return equal[0]\n"
   ]
  },
  {
   "cell_type": "code",
   "execution_count": 21,
   "metadata": {
    "graffitiCellId": "id_omabmcf"
   },
   "outputs": [
    {
     "data": {
      "text/plain": [
       "8"
      ]
     },
     "execution_count": 21,
     "metadata": {},
     "output_type": "execute_result"
    }
   ],
   "source": [
    "fastSelect([6, 80, 36, 8, 23, 7, 10, 12, 42], 3)"
   ]
  },
  {
   "cell_type": "markdown",
   "metadata": {
    "graffitiCellId": "id_mhdbx0f"
   },
   "source": [
    "### Test - Let's test your function"
   ]
  },
  {
   "cell_type": "code",
   "execution_count": 22,
   "metadata": {
    "graffitiCellId": "id_bgck2hk"
   },
   "outputs": [
    {
     "name": "stdout",
     "output_type": "stream",
     "text": [
      "12\n"
     ]
    }
   ],
   "source": [
    "Arr = [6, 80, 36, 8, 23, 7, 10, 12, 42]\n",
    "k = 5\n",
    "print(fastSelect(Arr, k))        # Outputs 12"
   ]
  },
  {
   "cell_type": "code",
   "execution_count": 23,
   "metadata": {
    "graffitiCellId": "id_32omxhm"
   },
   "outputs": [
    {
     "name": "stdout",
     "output_type": "stream",
     "text": [
      "11\n"
     ]
    }
   ],
   "source": [
    "Arr = [5, 2, 20, 17, 11, 13, 8, 9, 11]\n",
    "k = 5\n",
    "print(fastSelect(Arr, k))        # Outputs 11"
   ]
  },
  {
   "cell_type": "code",
   "execution_count": 24,
   "metadata": {
    "graffitiCellId": "id_h9nihqx"
   },
   "outputs": [
    {
     "name": "stdout",
     "output_type": "stream",
     "text": [
      "99\n"
     ]
    }
   ],
   "source": [
    "Arr = [6, 80, 36, 8, 23, 7, 10, 12, 42, 99]\n",
    "k = 10\n",
    "print(fastSelect(Arr, k))        # Outputs 99"
   ]
  },
  {
   "cell_type": "code",
   "execution_count": null,
   "metadata": {
    "graffitiCellId": "id_tcvy9hd"
   },
   "outputs": [],
   "source": []
  }
 ],
 "metadata": {
  "graffiti": {
   "firstAuthorId": "af9e0b36-2ad2-11ea-83c4-a78dc7ef519f",
   "id": "id_xuzb5il",
   "language": "EN"
  },
  "kernelspec": {
   "display_name": "Python 3",
   "language": "python",
   "name": "python3"
  },
  "language_info": {
   "codemirror_mode": {
    "name": "ipython",
    "version": 3
   },
   "file_extension": ".py",
   "mimetype": "text/x-python",
   "name": "python",
   "nbconvert_exporter": "python",
   "pygments_lexer": "ipython3",
   "version": "3.6.3"
  }
 },
 "nbformat": 4,
 "nbformat_minor": 2
}