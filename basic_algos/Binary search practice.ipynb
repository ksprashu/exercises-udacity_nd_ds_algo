{
 "cells": [
  {
   "cell_type": "markdown",
   "metadata": {
    "graffitiCellId": "id_brhw1bj"
   },
   "source": [
    "# Binary search practice\n",
    "\n",
    "Let's get some practice doing binary search on an array of integers. We'll solve the problem two different ways—both iteratively and resursively.\n",
    "\n",
    "Here is a reminder of how the algorithm works:\n",
    "\n",
    "1. Find the center of the list (try setting an upper and lower bound to find the center)\n",
    "2. Check to see if the element at the center is your target.\n",
    "3. If it is, return the index.\n",
    "4. If not, is the target greater or less than that element?\n",
    "5. If greater, move the lower bound to just above the current center\n",
    "6. If less, move the upper bound to just below the current center\n",
    "7. Repeat steps 1-6 until you find the target or until the bounds are the same or cross (the upper bound is less than the lower bound).\n",
    "\n",
    "\n",
    "## Problem statement:\n",
    "Given a sorted array of integers, and a target value, find the index of the target value in the array. If the target value is not present in the array, return -1.\n",
    "\n",
    "## Iterative solution\n",
    "\n",
    "First, see if you can code an iterative solution (i.e., one that uses loops). If you get stuck, the solution is below."
   ]
  },
  {
   "cell_type": "code",
   "execution_count": 1,
   "metadata": {
    "graffitiCellId": "id_xe6rg94"
   },
   "outputs": [],
   "source": [
    "def binary_search(array, target):\n",
    "    '''Write a function that implements the binary search algorithm using iteration\n",
    "   \n",
    "    args:\n",
    "      array: a sorted array of items of the same type\n",
    "      target: the element you're searching for\n",
    "   \n",
    "    returns:\n",
    "      int: the index of the target, if found, in the source\n",
    "      -1: if the target is not found\n",
    "    '''\n",
    "    start = 0\n",
    "    end = len(array) - 1\n",
    "    while start < end:\n",
    "        search = (start + end) // 2\n",
    "        if target < array[search]:\n",
    "            end = search - 1\n",
    "        elif target > array[search]:\n",
    "            start = search + 1\n",
    "        elif target == array[search]:\n",
    "            return search\n",
    "        \n",
    "    return -1"
   ]
  },
  {
   "cell_type": "markdown",
   "metadata": {
    "graffitiCellId": "id_1hg1he1"
   },
   "source": [
    "Here's some code you can use to test the function:"
   ]
  },
  {
   "cell_type": "code",
   "execution_count": 2,
   "metadata": {
    "graffitiCellId": "id_dtarosq"
   },
   "outputs": [],
   "source": [
    "def test_function(test_case):\n",
    "    answer = binary_search(test_case[0], test_case[1])\n",
    "    print(answer, end = ' : ')\n",
    "    if answer == test_case[2]:\n",
    "        print(\"Pass!\")\n",
    "    else:\n",
    "        print(\"Fail!\")"
   ]
  },
  {
   "cell_type": "code",
   "execution_count": 3,
   "metadata": {
    "graffitiCellId": "id_yfum0r9",
    "scrolled": false
   },
   "outputs": [
    {
     "name": "stdout",
     "output_type": "stream",
     "text": [
      "0, 10, 5\n",
      "6, 10, 8\n",
      "6, 7, 6\n",
      "6 : Pass!\n"
     ]
    }
   ],
   "source": [
    "array = [0, 1, 2, 3, 4, 5, 6, 7, 8, 9, 10]\n",
    "target = 6\n",
    "index = 6\n",
    "test_case = [array, target, index]\n",
    "test_function(test_case)"
   ]
  },
  {
   "cell_type": "code",
   "execution_count": 4,
   "metadata": {
    "graffitiCellId": "id_uh8lmuo"
   },
   "outputs": [
    {
     "name": "stdout",
     "output_type": "stream",
     "text": [
      "0, 10, 5\n",
      "6, 10, 8\n",
      "9, 10, 9\n",
      "-1 : Pass!\n"
     ]
    }
   ],
   "source": [
    "array = [0, 1, 2, 3, 4, 5, 6, 7, 8, 9, 10]\n",
    "target = 12\n",
    "index = -1\n",
    "test_case = [array, target, index]\n",
    "test_function(test_case)"
   ]
  },
  {
   "cell_type": "code",
   "execution_count": 5,
   "metadata": {
    "graffitiCellId": "id_q2xj1ok"
   },
   "outputs": [
    {
     "name": "stdout",
     "output_type": "stream",
     "text": [
      "0, 10, 5\n",
      "0, 4, 2\n",
      "0, 1, 0\n",
      "-1 : Pass!\n"
     ]
    }
   ],
   "source": [
    "array = [0, 1, 2, 3, 4, 5, 6, 7, 8, 9, 10]\n",
    "target = -1\n",
    "index = -1\n",
    "test_case = [array, target, index]\n",
    "test_function(test_case)"
   ]
  },
  {
   "cell_type": "markdown",
   "metadata": {
    "graffitiCellId": "id_5qnceuf"
   },
   "source": [
    "## Recursive solution\n",
    "Now, see if you can write a function that gives the same results, but that uses recursion to do so."
   ]
  },
  {
   "cell_type": "code",
   "execution_count": 10,
   "metadata": {
    "graffitiCellId": "id_ybdzfm8"
   },
   "outputs": [],
   "source": [
    "def binary_search_recursive(array, target):\n",
    "    '''Write a function that implements the binary search algorithm using recursion\n",
    "    \n",
    "    args:\n",
    "      array: a sorted array of items of the same type\n",
    "      target: the element you're searching for\n",
    "         \n",
    "    returns:\n",
    "      int: the index of the target, if found, in the source\n",
    "      -1: if the target is not found\n",
    "    '''\n",
    "    def _binary_search_recursive(array, target, start_index, end_index):\n",
    "        # base condition\n",
    "        if start_index > end_index:\n",
    "            return -1\n",
    "\n",
    "        search_index = (start_index + end_index) // 2\n",
    "        if target == array[search_index]:\n",
    "            return search_index\n",
    "        elif target > array[search_index]:\n",
    "            return binary_search_recursive(array, target, search_index + 1, end_index)\n",
    "        elif target < array[search_index]:\n",
    "            return binary_search_recursive(array, target, start_index, search_index - 1)\n",
    "        \n",
    "    return _binary_search_recursive(array, target, 0, len(array) - 1)\n",
    "        "
   ]
  },
  {
   "cell_type": "markdown",
   "metadata": {
    "graffitiCellId": "id_6oybjcx"
   },
   "source": [
    "Here's some code you can use to test the function:"
   ]
  },
  {
   "cell_type": "code",
   "execution_count": 13,
   "metadata": {
    "graffitiCellId": "id_gdvgd78"
   },
   "outputs": [],
   "source": [
    "def test_function(test_case):\n",
    "    answer = binary_search_recursive(test_case[0], test_case[1])\n",
    "    print(answer, end = ' : ')\n",
    "    if answer == test_case[2]:\n",
    "        print(\"Pass!\")\n",
    "    else:\n",
    "        print(\"Fail!\")"
   ]
  },
  {
   "cell_type": "code",
   "execution_count": 14,
   "metadata": {
    "graffitiCellId": "id_jeg0cdm"
   },
   "outputs": [
    {
     "name": "stdout",
     "output_type": "stream",
     "text": [
      "4 : Pass!\n"
     ]
    }
   ],
   "source": [
    "array = [0, 1, 2, 3, 4, 5, 6, 7, 8, 9]\n",
    "target = 4\n",
    "index = 4\n",
    "test_case = [array, target, index]\n",
    "test_function(test_case)"
   ]
  },
  {
   "cell_type": "code",
   "execution_count": null,
   "metadata": {
    "graffitiCellId": "id_g3iu6h9"
   },
   "outputs": [],
   "source": []
  }
 ],
 "metadata": {
  "graffiti": {
   "firstAuthorId": "dev",
   "id": "id_rnq144a",
   "language": "EN"
  },
  "kernelspec": {
   "display_name": "Python 3",
   "language": "python",
   "name": "python3"
  },
  "language_info": {
   "codemirror_mode": {
    "name": "ipython",
    "version": 3
   },
   "file_extension": ".py",
   "mimetype": "text/x-python",
   "name": "python",
   "nbconvert_exporter": "python",
   "pygments_lexer": "ipython3",
   "version": "3.6.3"
  }
 },
 "nbformat": 4,
 "nbformat_minor": 2
}