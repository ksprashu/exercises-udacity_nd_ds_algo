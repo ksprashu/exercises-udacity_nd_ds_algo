{
 "cells": [
  {
   "cell_type": "markdown",
   "source": [
    "# Coin Change\n",
    "\n",
    "You are given coins of different denominations and a total amount of money. Write a function to compute the fewest coins needed to make up that amount. If that amount of money cannot be made up by any combination of the coins, return `-1`.\n",
    "\n",
    "As an example:\n",
    "* Input: `coins = [1, 2, 3]`, `amount = 6`\n",
    "* Output: `2`\n",
    "* Explanation: The output is `2` because we can use `2` coins with value `3`. That is, `6 = 3 + 3`. We could also use `3` coins with value `2` (that is, `6 = 2 + 2 + 2`), but this would use more coins—and the problem specifies we should use the smallest number of coins possible.\n",
    "\n",
    "There's test code below that you can use to check your solution. And at the bottom of the notebook, you'll find two different possible solutions."
   ],
   "metadata": {
    "graffitiCellId": "id_pxg59hb"
   }
  },
  {
   "cell_type": "code",
   "execution_count": 41,
   "source": [
    "import math \n",
    "def coin_change(coins, amount):\n",
    "\n",
    "    # TODO: Complete the coin_change function\n",
    "    # This should return one value: the fewest coins needed to make up the given amount\n",
    "    \n",
    "    # break down in smaller sub problems\n",
    "    # given 1 coin, can I make the end result using that coin\n",
    "    # given 2 coins, how do I make end result?\n",
    "    # If multiple of second (larger) coin matches, then use that\n",
    "    # Else find delta, and get the biggest number that makes up the delta\n",
    "    # let's start with smallest coin (so sort it)\n",
    "    # let's create a vector from 0 to total which we will populate\n",
    "    \n",
    "    lookup = [math.inf for _ in range(amount + 1)]\n",
    "    coins = sorted(coins)\n",
    "    for coin in coins:\n",
    "        for amt in range(1, amount + 1):\n",
    "            if amt % coin == 0:\n",
    "                lookup[amt] = min(lookup[amt], amt / coin)\n",
    "            else:\n",
    "                diff = amt // coin\n",
    "                lookup[amt] = min(lookup[amt], (amt // coin) + lookup[diff])\n",
    "#             print(amt, coin, lookup)\n",
    "                \n",
    "    if lookup[-1] != math.inf:\n",
    "        return int(lookup[-1])\n",
    "    else:\n",
    "        return -1\n"
   ],
   "outputs": [],
   "metadata": {
    "graffitiCellId": "id_n12iz5t"
   }
  },
  {
   "cell_type": "code",
   "execution_count": 42,
   "source": [
    "coin_change([1], 3)"
   ],
   "outputs": [
    {
     "output_type": "execute_result",
     "data": {
      "text/plain": [
       "3"
      ]
     },
     "metadata": {},
     "execution_count": 42
    }
   ],
   "metadata": {
    "graffitiCellId": "id_umcksbn",
    "scrolled": true
   }
  },
  {
   "cell_type": "code",
   "execution_count": 43,
   "source": [
    "coin_change([2], 3)"
   ],
   "outputs": [
    {
     "output_type": "execute_result",
     "data": {
      "text/plain": [
       "-1"
      ]
     },
     "metadata": {},
     "execution_count": 43
    }
   ],
   "metadata": {
    "graffitiCellId": "id_28xzbjp"
   }
  },
  {
   "cell_type": "code",
   "execution_count": 44,
   "source": [
    "coin_change([1, 2], 3)"
   ],
   "outputs": [
    {
     "output_type": "execute_result",
     "data": {
      "text/plain": [
       "2"
      ]
     },
     "metadata": {},
     "execution_count": 44
    }
   ],
   "metadata": {
    "graffitiCellId": "id_mujqxma"
   }
  },
  {
   "cell_type": "code",
   "execution_count": 45,
   "source": [
    "def test_function(test_case):\n",
    "    arr = test_case[0]\n",
    "    amount = test_case[1]\n",
    "    solution = test_case[2]\n",
    "    output = coin_change(arr, amount)\n",
    "    if output == solution:\n",
    "        print(\"Pass\")\n",
    "    else:\n",
    "        print(\"Fail\")"
   ],
   "outputs": [],
   "metadata": {
    "graffitiCellId": "id_g1vpolv"
   }
  },
  {
   "cell_type": "code",
   "execution_count": 46,
   "source": [
    "arr = [1,2,5]\n",
    "amount = 11\n",
    "solution = 3\n",
    "test_case = [arr, amount, solution]\n",
    "test_function(test_case)"
   ],
   "outputs": [
    {
     "output_type": "stream",
     "name": "stdout",
     "text": [
      "Pass\n"
     ]
    }
   ],
   "metadata": {
    "graffitiCellId": "id_cqdyyun"
   }
  },
  {
   "cell_type": "code",
   "execution_count": 47,
   "source": [
    "arr = [1,4,5,6]\n",
    "amount = 23\n",
    "solution = 4\n",
    "test_case = [arr, amount, solution]\n",
    "test_function(test_case)"
   ],
   "outputs": [
    {
     "output_type": "stream",
     "name": "stdout",
     "text": [
      "Fail\n"
     ]
    }
   ],
   "metadata": {
    "graffitiCellId": "id_91p1cz0"
   }
  },
  {
   "cell_type": "code",
   "execution_count": 48,
   "source": [
    "arr = [5,7,8]\n",
    "amount = 2\n",
    "solution = -1\n",
    "test_case = [arr, amount, solution]\n",
    "test_function(test_case)"
   ],
   "outputs": [
    {
     "output_type": "stream",
     "name": "stdout",
     "text": [
      "Pass\n"
     ]
    }
   ],
   "metadata": {
    "graffitiCellId": "id_mo17gzo"
   }
  },
  {
   "cell_type": "code",
   "execution_count": null,
   "source": [
    "# Solution One\n",
    "\n",
    "# Let's assume F(Amount) is the minimum number of coins needed to make a change from coins [C0, C1, C2...Cn-1]\n",
    "# Then, we know that F(Amount) = min(F(Amount-C0), F(Amount-C1), F(Amount-C2)...F(Amount-Cn-1)) + 1\n",
    "\n",
    "# Base Cases: \n",
    "    # when Amount == 0: F(Amount) = 0\n",
    "    # when Amount < 0: F(Amount) =  float('inf')\n",
    "\n",
    "def coin_change(coins, amount):\n",
    "    # Create a memo that will storing the fewest coins with given amount\n",
    "    # that we have already calculated so that we do not have to do the\n",
    "    # calculation again.\n",
    "    memo = {}\n",
    "    \n",
    "    def return_change(remaining):\n",
    "        # Base cases\n",
    "        if remaining < 0:  return float('inf')\n",
    "        if remaining == 0: return 0 \n",
    "        \n",
    "        # Check if we have already calculated\n",
    "        if remaining not in memo:\n",
    "            # If not previously calculated, calculate it by calling return_change with the remaining amount\n",
    "            memo[remaining] = min(return_change(remaining - c) + 1 for c in coins)\n",
    "        return memo[remaining]\n",
    "    \n",
    "    res = return_change(amount)\n",
    "    \n",
    "    # return -1 when no change found\n",
    "    return -1 if res == float('inf') else res\n"
   ],
   "outputs": [],
   "metadata": {
    "graffitiCellId": "id_fpk926y"
   }
  },
  {
   "cell_type": "markdown",
   "source": [
    "## Solutions\n",
    "\n",
    "Let's look at two different solutions. Here's one way to do it...\n",
    "\n",
    "<span class=\"graffiti-highlight graffiti-id_jjdrdzm-id_fpk926y\"><i></i><button>Show Solution One</button></span>"
   ],
   "metadata": {
    "graffitiCellId": "id_jjdrdzm"
   }
  },
  {
   "cell_type": "code",
   "execution_count": null,
   "source": [
    "# Solution Two\n",
    "\n",
    "# We initiate F[Amount] to be float('inf') and F[0] = 0\n",
    "# Let F[Amount] to be the minimum number of coins needed to get change for the Amount.\n",
    "# F[Amount + coin] = min(F(Amount + coin), F(Amount) + 1) if F[Amount] is reachable.\n",
    "# F[Amount + coin] = F(Amount + coin) if F[Amount] is not reachable.\n",
    "\n",
    "def coin_change(coins, amount):\n",
    "    # initiate the list with length amount + 1 and prefill with float('inf')\n",
    "    res = [float('inf')]*(amount + 1)\n",
    "    \n",
    "    # when amount = 0, 0 number of coins will be needed for the change\n",
    "    res[0] = 0\n",
    "    \n",
    "    i = 0\n",
    "    while (i < amount):\n",
    "        if res[i] != float('inf'):\n",
    "            for coin in coins:\n",
    "                if i <= amount - coin:\n",
    "                    res[i+coin] = min(res[i] + 1, res[i+coin])\n",
    "        i += 1\n",
    "\n",
    "    if res[amount] == float('inf'):\n",
    "        return -1\n",
    "    return res[amount]\n",
    "        \n"
   ],
   "outputs": [],
   "metadata": {
    "graffitiCellId": "id_9z3z0e0"
   }
  },
  {
   "cell_type": "markdown",
   "source": [
    "And here's another possibility:\n",
    "\n",
    "<span class=\"graffiti-highlight graffiti-id_bmrwntc-id_9z3z0e0\"><i></i><button>Show Solution Two</button></span>"
   ],
   "metadata": {
    "graffitiCellId": "id_om55y5v"
   }
  }
 ],
 "metadata": {
  "graffiti": {
   "firstAuthorId": "10694620118",
   "id": "id_0hxxyvu",
   "language": "EN"
  },
  "kernelspec": {
   "display_name": "Python 3",
   "language": "python",
   "name": "python3"
  },
  "language_info": {
   "codemirror_mode": {
    "name": "ipython",
    "version": 3
   },
   "file_extension": ".py",
   "mimetype": "text/x-python",
   "name": "python",
   "nbconvert_exporter": "python",
   "pygments_lexer": "ipython3",
   "version": "3.6.3"
  }
 },
 "nbformat": 4,
 "nbformat_minor": 2
}